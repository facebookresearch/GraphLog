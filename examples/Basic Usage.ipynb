{
 "cells": [
  {
   "cell_type": "markdown",
   "metadata": {},
   "source": [
    "# Basic Usage\n",
    "\n",
    "GraphLog can be used as a regular Python module to access the datasets used\n",
    "in the paper [\"Evaluating Logical Generalization in Graph Neural Networks\"](#archive).\n",
    "Additionally, GraphLog also provides necessary [torch.utils.data.Dataset](https://pytorch.org/docs/stable/data.html?highlight=dataset#torch.utils.data.Dataset) and \n",
    "[torch.utils.data.DataLoader](https://pytorch.org/docs/stable/data.html?highlight=dataloader#torch.utils.data.DataLoader) packages for easy training and evaluation.\n",
    "\n",
    "### Loading the data\n",
    "\n",
    "When GraphLog is imported for the first time, it downloads the data\n",
    "and creates a ``./data`` directory in the current working directory. \n",
    "The downloaded data is then unzipped and placed within this directory."
   ]
  },
  {
   "cell_type": "code",
   "execution_count": 1,
   "metadata": {
    "scrolled": true
   },
   "outputs": [],
   "source": [
    "from graphlog import GraphLog\n",
    "gl = GraphLog()"
   ]
  },
  {
   "cell_type": "markdown",
   "metadata": {},
   "source": [
    "To change the data directory, pass the ``data_dir`` flag."
   ]
  },
  {
   "cell_type": "code",
   "execution_count": null,
   "metadata": {},
   "outputs": [],
   "source": [
    "gl = GraphLog(data_dir='/tmp/data')"
   ]
  },
  {
   "cell_type": "markdown",
   "metadata": {},
   "source": [
    "### Viewing the data\n",
    "\n",
    "GraphLog consists of multiple `datasets`. Each dataset is built using its own\n",
    "set of **rules**, which themselves are procedurally generated and sampled from\n",
    "a large knowledge-base.\n",
    "\n",
    "To view all possible datasets in GraphLog:"
   ]
  },
  {
   "cell_type": "code",
   "execution_count": 2,
   "metadata": {},
   "outputs": [
    {
     "data": {
      "text/plain": [
       "{'train': ['rule_49',\n",
       "  'rule_39',\n",
       "  'rule_13',\n",
       "  'rule_32',\n",
       "  'rule_45',\n",
       "  'rule_12',\n",
       "  'rule_21',\n",
       "  'rule_40',\n",
       "  'rule_41',\n",
       "  'rule_7',\n",
       "  'rule_34',\n",
       "  'rule_14',\n",
       "  'rule_35',\n",
       "  'rule_43',\n",
       "  'rule_0',\n",
       "  'rule_29',\n",
       "  'rule_38',\n",
       "  'rule_22',\n",
       "  'rule_23',\n",
       "  'rule_9',\n",
       "  'rule_42',\n",
       "  'rule_2',\n",
       "  'rule_33',\n",
       "  'rule_50',\n",
       "  'rule_5',\n",
       "  'rule_46',\n",
       "  'rule_48',\n",
       "  'rule_37',\n",
       "  'rule_16',\n",
       "  'rule_44',\n",
       "  'rule_28',\n",
       "  'rule_19',\n",
       "  'rule_4',\n",
       "  'rule_15',\n",
       "  'rule_3',\n",
       "  'rule_1',\n",
       "  'rule_6',\n",
       "  'rule_17',\n",
       "  'rule_25',\n",
       "  'rule_47',\n",
       "  'rule_31',\n",
       "  'rule_10',\n",
       "  'rule_11',\n",
       "  'rule_26',\n",
       "  'rule_8',\n",
       "  'rule_30',\n",
       "  'rule_24',\n",
       "  'rule_36',\n",
       "  'rule_18',\n",
       "  'rule_20',\n",
       "  'rule_27'],\n",
       " 'valid': ['rule_51', 'rule_52', 'rule_53'],\n",
       " 'test': ['rule_54', 'rule_55', 'rule_56']}"
      ]
     },
     "execution_count": 2,
     "metadata": {},
     "output_type": "execute_result"
    }
   ],
   "source": [
    "gl.get_dataset_names_by_split()"
   ]
  },
  {
   "cell_type": "markdown",
   "metadata": {},
   "source": [
    "This will provide a list of dataset ids in train, valid and test splits.\n",
    "To load a single dataset, use the ``get_dataset_by_name`` method:"
   ]
  },
  {
   "cell_type": "code",
   "execution_count": 3,
   "metadata": {},
   "outputs": [
    {
     "data": {
      "text/plain": [
       "graphlog.dataset.GraphLogDataset"
      ]
     },
     "execution_count": 3,
     "metadata": {},
     "output_type": "execute_result"
    }
   ],
   "source": [
    "rule_3 = gl.get_dataset_by_name('rule_3')\n",
    "type(rule_3)"
   ]
  },
  {
   "cell_type": "markdown",
   "metadata": {},
   "source": [
    "This will load a ``GraphLogDataset`` object, which is in-turn a Pytorch ``Dataset``\n",
    "instance. Each dataset also has its own training, validation and test splits."
   ]
  },
  {
   "cell_type": "markdown",
   "metadata": {},
   "source": [
    "The ``GraphLogDataset`` object essentially contains [Pytorch Geometric](https://github.com/rusty1s/pytorch_geometric) graphs,\n",
    "a query tuple of ``<source, sink>`` nodes for each datapoint, and a label or relation to predict. "
   ]
  },
  {
   "cell_type": "markdown",
   "metadata": {},
   "source": [
    "You can also view the aggregate statistics of the dataset:"
   ]
  },
  {
   "cell_type": "code",
   "execution_count": 4,
   "metadata": {},
   "outputs": [
    {
     "name": "stdout",
     "output_type": "stream",
     "text": [
      "Data Split : train,Number of Classes : 16,Number of Descriptors : 189,Average Resolution Length : 3.632142857142857,Average number of nodes : 11.137 andedges : 13.273\n"
     ]
    },
    {
     "data": {
      "text/plain": [
       "{'num_class': 16,\n",
       " 'num_des': 189,\n",
       " 'avg_resolution_length': 3.632142857142857,\n",
       " 'num_nodes': 11.137,\n",
       " 'num_edges': 13.273,\n",
       " 'split': 'train'}"
      ]
     },
     "execution_count": 4,
     "metadata": {},
     "output_type": "execute_result"
    }
   ],
   "source": [
    "gl.compute_stats_by_dataset(\"rule_3\")"
   ]
  },
  {
   "cell_type": "markdown",
   "metadata": {},
   "source": [
    "You can also convert the dataset into [networkx](https://networkx.github.io/) format, in order to perform quick calculations or visualization:"
   ]
  },
  {
   "cell_type": "code",
   "execution_count": 5,
   "metadata": {},
   "outputs": [],
   "source": [
    "import networkx as nx\n",
    "from graphlog.utils import load_networkx_graphs\n",
    "nx_graphs, nx_queries = load_networkx_graphs(rule_3.json_graphs[\"train\"])"
   ]
  },
  {
   "cell_type": "code",
   "execution_count": 6,
   "metadata": {},
   "outputs": [
    {
     "data": {
      "text/plain": [
       "'Name: \\nType: DiGraph\\nNumber of nodes: 7\\nNumber of edges: 6\\nAverage in degree:   0.8571\\nAverage out degree:   0.8571'"
      ]
     },
     "execution_count": 6,
     "metadata": {},
     "output_type": "execute_result"
    }
   ],
   "source": [
    "nx.info(nx_graphs[0])"
   ]
  },
  {
   "cell_type": "markdown",
   "metadata": {},
   "source": [
    "To view a single graph in the dataset, you can also use the inbuilt `display_single_graph` api."
   ]
  },
  {
   "cell_type": "code",
   "execution_count": null,
   "metadata": {},
   "outputs": [],
   "source": [
    "gl.draw_single_graph(rule_3, \"train\",21)"
   ]
  },
  {
   "cell_type": "markdown",
   "metadata": {},
   "source": [
    "### Extracting dataloaders"
   ]
  },
  {
   "cell_type": "markdown",
   "metadata": {},
   "source": [
    "We provide a method to generate dataloaders for each dataset as follows:"
   ]
  },
  {
   "cell_type": "code",
   "execution_count": 9,
   "metadata": {},
   "outputs": [],
   "source": [
    "rule_3_train = gl.get_dataloader_by_mode(rule_3, mode=\"train\")\n",
    "rule_3_valid = gl.get_dataloader_by_mode(rule_3, mode=\"valid\")\n",
    "rule_3_test = gl.get_dataloader_by_mode(rule_3, mode=\"test\")"
   ]
  },
  {
   "cell_type": "markdown",
   "metadata": {},
   "source": [
    "### Supervised Training\n",
    "\n",
    "A very minimal dummy training script is provided below to show how easy it is to train your models."
   ]
  },
  {
   "cell_type": "code",
   "execution_count": null,
   "metadata": {},
   "outputs": [],
   "source": [
    "for batch_idx, batch in enumerate(rule_3_train):\n",
    "    graphs = batch.graphs\n",
    "    queries = batch.queries\n",
    "    targets = batch.targets\n",
    "    world_graphs = batch.world_graphs\n",
    "    logits = your_model(graphs, queries, world_graphs)"
   ]
  },
  {
   "cell_type": "code",
   "execution_count": null,
   "metadata": {},
   "outputs": [],
   "source": []
  }
 ],
 "metadata": {
  "kernelspec": {
   "display_name": "Python 3 (ril)",
   "language": "python",
   "name": "ril"
  },
  "language_info": {
   "codemirror_mode": {
    "name": "ipython",
    "version": 3
   },
   "file_extension": ".py",
   "mimetype": "text/x-python",
   "name": "python",
   "nbconvert_exporter": "python",
   "pygments_lexer": "ipython3",
   "version": "3.7.7"
  }
 },
 "nbformat": 4,
 "nbformat_minor": 4
}
