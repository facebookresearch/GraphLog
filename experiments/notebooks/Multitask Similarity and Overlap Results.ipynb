{
 "cells": [
  {
   "cell_type": "markdown",
   "metadata": {},
   "source": [
    "## Split Rules based on similarity"
   ]
  },
  {
   "cell_type": "code",
   "execution_count": 1,
   "metadata": {},
   "outputs": [],
   "source": [
    "import os"
   ]
  },
  {
   "cell_type": "code",
   "execution_count": 1072,
   "metadata": {},
   "outputs": [],
   "source": [
    "loc = os.path.expanduser('~/checkpoint/lgw/data/comp_r10_n100_ov/')"
   ]
  },
  {
   "cell_type": "code",
   "execution_count": 3,
   "metadata": {},
   "outputs": [],
   "source": [
    "all_paths = {}\n",
    "modes = [\"train\",\"valid\",\"test\"]\n",
    "for mode in modes:\n",
    "    data_path = os.path.join(loc, mode)\n",
    "    all_paths[mode] = [\n",
    "        folder\n",
    "        for folder in os.listdir(data_path)\n",
    "        if os.path.isdir(os.path.join(data_path, folder)) and os.path.exists(os.path.join(data_path, folder, 'graph_prop.json'))\n",
    "    ] "
   ]
  },
  {
   "cell_type": "code",
   "execution_count": 4,
   "metadata": {},
   "outputs": [
    {
     "data": {
      "text/plain": [
       "51"
      ]
     },
     "execution_count": 4,
     "metadata": {},
     "output_type": "execute_result"
    }
   ],
   "source": [
    "len(all_paths['train'])"
   ]
  },
  {
   "cell_type": "code",
   "execution_count": 5,
   "metadata": {},
   "outputs": [],
   "source": [
    "import sys\n",
    "sys.path.append(os.path.expanduser('~/mlp/lgw/'))\n",
    "from lgw.graph_generator import GraphGen, BigGraphGen\n",
    "from lgw.args import get_args"
   ]
  },
  {
   "cell_type": "code",
   "execution_count": 6,
   "metadata": {},
   "outputs": [],
   "source": [
    "args = get_args(\"--num_rel_choices 10 --num_splits 100 --graphs_per_world 5000 --num_worlds 100 --per_inverse_choices 0.5 --corrupt_eps_choices 0 --expand_steps_choices 5 --uniform_prob --fix_num_relations --policy overlap --folder ~/checkpoint/lgw/data/comp_r10_n100_ov --save_path ~/checkpoint/lgw/data/comp_r10_n100_ov/ --num_nodes 5000 --sample_graphs --num_train_rows 5000 --num_valid_rows 1000 --num_test_rows 1000 --world_train_val_test_split 0.95\")"
   ]
  },
  {
   "cell_type": "code",
   "execution_count": 9,
   "metadata": {},
   "outputs": [],
   "source": [
    "num_des = []\n",
    "all_rules_mat = {}\n",
    "all_big_gs = {}\n",
    "for rule_world_mode, rule_worlds in all_paths.items():\n",
    "    for rule_world in rule_worlds:\n",
    "        rule_folder = os.path.join(loc, rule_world_mode, rule_world)\n",
    "        big_g = BigGraphGen(None, args, gen_graph=False)\n",
    "        big_g.load(rule_folder)\n",
    "        num_des.append((rule_world, sum([len(big_g.path_dict[p]) for p in big_g.path_dict.keys()])))\n",
    "        all_rules_mat[rule_world] = set(get_rule_key(big_g.rules))\n",
    "        all_big_gs[rule_world] = big_g"
   ]
  },
  {
   "cell_type": "code",
   "execution_count": 10,
   "metadata": {},
   "outputs": [
    {
     "data": {
      "text/plain": [
       "259"
      ]
     },
     "execution_count": 10,
     "metadata": {},
     "output_type": "execute_result"
    }
   ],
   "source": [
    "sum([len(big_g.path_dict[p]) for p in big_g.path_dict.keys()])"
   ]
  },
  {
   "cell_type": "code",
   "execution_count": 607,
   "metadata": {},
   "outputs": [
    {
     "data": {
      "text/plain": [
       "57"
      ]
     },
     "execution_count": 607,
     "metadata": {},
     "output_type": "execute_result"
    }
   ],
   "source": [
    "len(num_des)"
   ]
  },
  {
   "cell_type": "code",
   "execution_count": 608,
   "metadata": {},
   "outputs": [],
   "source": [
    "import re\n",
    "\n",
    "def atoi(text):\n",
    "    return int(text) if text.isdigit() else text\n",
    "\n",
    "def natural_keys(text):\n",
    "    '''\n",
    "    alist.sort(key=natural_keys) sorts in human order\n",
    "    http://nedbatchelder.com/blog/200712/human_sorting.html\n",
    "    (See Toothy's implementation in the comments)\n",
    "    '''\n",
    "    return [ atoi(c) for c in re.split(r'(\\d+)', text) ]"
   ]
  },
  {
   "cell_type": "code",
   "execution_count": 613,
   "metadata": {},
   "outputs": [],
   "source": [
    "training_worlds = sorted(num_des, key=lambda x: natural_keys(x[0]))[:51]\n",
    "valid_worlds = sorted(num_des, key=lambda x: natural_keys(x[0]))[51:54]\n",
    "test_worlds = sorted(num_des, key=lambda x: natural_keys(x[0]))[54:]"
   ]
  },
  {
   "cell_type": "code",
   "execution_count": 12,
   "metadata": {},
   "outputs": [],
   "source": [
    "similarity_dist = []\n",
    "rules = list(all_rules_mat.keys())\n",
    "for a in rules:\n",
    "    sim = []\n",
    "    for b in rules:\n",
    "        sim.append(len(all_rules_mat[a].intersection(all_rules_mat[b])))\n",
    "    similarity_dist.append(sim)"
   ]
  },
  {
   "cell_type": "code",
   "execution_count": 8,
   "metadata": {},
   "outputs": [],
   "source": [
    "def get_rule_key(insp_rule):\n",
    "    key = []\n",
    "    for body,head in insp_rule.items():\n",
    "        if type(body) == tuple:\n",
    "            key.append('{},{}->{}'.format(body[0], body[1], head))\n",
    "    return key"
   ]
  },
  {
   "cell_type": "code",
   "execution_count": 13,
   "metadata": {},
   "outputs": [],
   "source": [
    "import numpy as np\n",
    "similarity_dist = np.array(similarity_dist)"
   ]
  },
  {
   "cell_type": "code",
   "execution_count": 29,
   "metadata": {},
   "outputs": [
    {
     "data": {
      "text/plain": [
       "['rule_49', 'rule_39', 'rule_13', 'rule_32', 'rule_45']"
      ]
     },
     "execution_count": 29,
     "metadata": {},
     "output_type": "execute_result"
    }
   ],
   "source": [
    "rules[:5]"
   ]
  },
  {
   "cell_type": "code",
   "execution_count": 31,
   "metadata": {},
   "outputs": [
    {
     "data": {
      "text/plain": [
       "array([20, 10,  0,  3, 16,  0,  0, 11, 12,  0,  5,  0,  6, 14,  0,  0,  9,\n",
       "        0,  0,  0, 13,  0,  4, 19,  0, 17, 19,  8,  0, 15,  0,  0,  0,  0,\n",
       "        0,  0,  0,  0,  0, 18,  2,  0,  0,  0,  0,  1,  0,  7,  0,  0,  0,\n",
       "       18, 17, 16, 15, 14, 13])"
      ]
     },
     "execution_count": 31,
     "metadata": {},
     "output_type": "execute_result"
    }
   ],
   "source": [
    "similarity_dist[0]"
   ]
  },
  {
   "cell_type": "code",
   "execution_count": 15,
   "metadata": {},
   "outputs": [],
   "source": [
    "from sklearn.model_selection import train_test_split"
   ]
  },
  {
   "cell_type": "code",
   "execution_count": 16,
   "metadata": {},
   "outputs": [],
   "source": [
    "import random"
   ]
  },
  {
   "cell_type": "markdown",
   "metadata": {},
   "source": [
    "### Calculate splits\n",
    "\n",
    "For each world, make sure all test descriptors are unique"
   ]
  },
  {
   "cell_type": "code",
   "execution_count": 17,
   "metadata": {},
   "outputs": [],
   "source": [
    "split_per = 0.8\n",
    "global_train = []\n",
    "global_test = []\n",
    "all_splits = {}\n",
    "com_f = 0\n",
    "for rule_world, big_g in all_big_gs.items():\n",
    "    splits_d = {}\n",
    "    for target, p in big_g.path_dict.items():\n",
    "        desc_lens = {}  # length -> descriptors\n",
    "        desc = list(p.keys())\n",
    "        if len(desc) > 0:\n",
    "            for d in desc:\n",
    "                d_len = len(d.split(\",\"))\n",
    "                if d_len not in desc_lens:\n",
    "                    desc_lens[d_len] = []\n",
    "                desc_lens[d_len].append(d)\n",
    "            splits_d[target] = {\"train\": [], \"valid\": [], \"test\": []}\n",
    "            for dlen, len_ds in desc_lens.items():\n",
    "                num_train_used = 0\n",
    "                num_test_used = 0\n",
    "                if dlen == 2:\n",
    "                    splits_d[target][\"train\"].extend(len_ds)\n",
    "                    global_train.extend(len_ds)\n",
    "                else:\n",
    "                    # keep the common ones in train\n",
    "                    common_train = set(len_ds).intersection(set(global_train))\n",
    "                    if len(common_train) > 0:\n",
    "                        splits_d[target][\"train\"].extend(list(common_train))\n",
    "                        global_train.extend(list(common_train))\n",
    "                        num_train_used = len(list(common_train))\n",
    "                        com_f += 1\n",
    "                    rest_ds = set(len_ds) - set(global_train)\n",
    "                    # keep the common tests in test\n",
    "                    common_test = set(rest_ds).intersection(set(global_test))\n",
    "                    if len(common_test) > 0:\n",
    "                        splits_d[target][\"test\"].extend(list(common_test))\n",
    "                        global_test.extend(list(common_test))\n",
    "                        num_test_used = len(list(common_test))\n",
    "                        com_f += 1\n",
    "                    rest_ds = set(rest_ds) - set(global_test)\n",
    "                    if len(rest_ds) > 1:\n",
    "                        train, test = train_test_split(\n",
    "                            list(rest_ds), shuffle=True, train_size=split_per\n",
    "                        )\n",
    "                        if num_train_used > 0:\n",
    "                            # adjust\n",
    "                            test = test + train[-num_train_used:]\n",
    "                            train = train[:-num_train_used]\n",
    "                        assert len(set(test).intersection(global_train)) == 0\n",
    "                        splits_d[target][\"train\"].extend(train)\n",
    "                        global_train.extend(train)\n",
    "                        splits_d[target][\"test\"].extend(test)\n",
    "                        global_test.extend(test)\n",
    "                        assert len(set(global_train).intersection(set(global_test))) == 0\n",
    "                valid = random.sample(splits_d[target][\"train\"], int(len(splits_d[target][\"train\"]) * (1 - split_per)))\n",
    "                splits_d[target][\"valid\"].extend(valid)\n",
    "        all_splits[rule_world] = splits_d\n",
    "        "
   ]
  },
  {
   "cell_type": "code",
   "execution_count": 18,
   "metadata": {},
   "outputs": [
    {
     "data": {
      "text/plain": [
       "0"
      ]
     },
     "execution_count": 18,
     "metadata": {},
     "output_type": "execute_result"
    }
   ],
   "source": [
    "len(set(global_train).intersection(set(global_test)))"
   ]
  },
  {
   "cell_type": "code",
   "execution_count": 19,
   "metadata": {},
   "outputs": [],
   "source": [
    "## verify\n",
    "## pool all train descriptors\n",
    "## for each rule_world, check if there is no overlap\n",
    "\n",
    "pooled_train = []\n",
    "for rule_mode, split_d in all_splits.items():\n",
    "    for target, split in split_d.items():\n",
    "        pooled_train.extend(split['train'])\n",
    "pooled_train = set(pooled_train)\n",
    "\n",
    "pooled_test = []\n",
    "for rule_mode, split_d in all_splits.items():\n",
    "    for target, split in split_d.items():\n",
    "        pooled_test.extend(split['test'])\n",
    "pooled_test = set(pooled_test)"
   ]
  },
  {
   "cell_type": "code",
   "execution_count": 20,
   "metadata": {},
   "outputs": [
    {
     "data": {
      "text/plain": [
       "16763"
      ]
     },
     "execution_count": 20,
     "metadata": {},
     "output_type": "execute_result"
    }
   ],
   "source": [
    "len(pooled_train)"
   ]
  },
  {
   "cell_type": "code",
   "execution_count": 21,
   "metadata": {},
   "outputs": [
    {
     "data": {
      "text/plain": [
       "6058"
      ]
     },
     "execution_count": 21,
     "metadata": {},
     "output_type": "execute_result"
    }
   ],
   "source": [
    "len(pooled_test)"
   ]
  },
  {
   "cell_type": "code",
   "execution_count": 22,
   "metadata": {},
   "outputs": [],
   "source": [
    "leak = 0\n",
    "for rule_mode, split_d in all_splits.items():\n",
    "    for target, split in split_d.items():\n",
    "        leak += len(pooled_train.intersection(set(split['test'])))"
   ]
  },
  {
   "cell_type": "code",
   "execution_count": 23,
   "metadata": {},
   "outputs": [
    {
     "data": {
      "text/plain": [
       "0"
      ]
     },
     "execution_count": 23,
     "metadata": {},
     "output_type": "execute_result"
    }
   ],
   "source": [
    "leak"
   ]
  },
  {
   "cell_type": "code",
   "execution_count": 1073,
   "metadata": {
    "scrolled": true
   },
   "outputs": [],
   "source": [
    "## put the splits in graphs\n",
    "for rule_mode, split_d in all_splits.items():\n",
    "    all_big_gs[rule_mode].descriptor_splits = split_d\n",
    "    if rule_mode in all_paths['train']:\n",
    "        mode = 'train'\n",
    "    elif rule_mode in all_paths['valid']:\n",
    "        mode = 'valid'\n",
    "    else:\n",
    "        mode = 'test'\n",
    "    rule_folder = os.path.join(loc, mode, rule_mode)\n",
    "    # all_big_gs[rule_mode].save(rule_folder)"
   ]
  },
  {
   "cell_type": "code",
   "execution_count": 68,
   "metadata": {},
   "outputs": [
    {
     "data": {
      "text/plain": [
       "1272"
      ]
     },
     "execution_count": 68,
     "metadata": {},
     "output_type": "execute_result"
    }
   ],
   "source": [
    "com_f"
   ]
  },
  {
   "cell_type": "markdown",
   "metadata": {},
   "source": [
    "## Calculate Rule overlaps"
   ]
  },
  {
   "cell_type": "code",
   "execution_count": 32,
   "metadata": {},
   "outputs": [
    {
     "data": {
      "text/plain": [
       "array([[20, 10,  0, ..., 15, 14, 13],\n",
       "       [10, 20,  0, ...,  5,  4,  3],\n",
       "       [ 0,  0, 20, ...,  0,  0,  0],\n",
       "       ...,\n",
       "       [15,  5,  0, ..., 20, 19, 18],\n",
       "       [14,  4,  0, ..., 19, 20, 19],\n",
       "       [13,  3,  0, ..., 18, 19, 20]])"
      ]
     },
     "execution_count": 32,
     "metadata": {},
     "output_type": "execute_result"
    }
   ],
   "source": [
    "similarity_dist"
   ]
  },
  {
   "cell_type": "code",
   "execution_count": 33,
   "metadata": {},
   "outputs": [],
   "source": [
    "delta = 0.5\n",
    "gs = np.exp(- np.array(similarity_dist) ** 2 / (2. * delta ** 2))"
   ]
  },
  {
   "cell_type": "code",
   "execution_count": 34,
   "metadata": {},
   "outputs": [
    {
     "data": {
      "text/plain": [
       "array([[0.00000000e+000, 1.38389653e-087, 1.00000000e+000, ...,\n",
       "        3.69388307e-196, 5.70904011e-171, 1.61608841e-147],\n",
       "       [1.38389653e-087, 0.00000000e+000, 1.00000000e+000, ...,\n",
       "        1.92874985e-022, 1.26641655e-014, 1.52299797e-008],\n",
       "       [1.00000000e+000, 1.00000000e+000, 0.00000000e+000, ...,\n",
       "        1.00000000e+000, 1.00000000e+000, 1.00000000e+000],\n",
       "       ...,\n",
       "       [3.69388307e-196, 1.92874985e-022, 1.00000000e+000, ...,\n",
       "        0.00000000e+000, 2.75032531e-314, 3.77724997e-282],\n",
       "       [5.70904011e-171, 1.26641655e-014, 1.00000000e+000, ...,\n",
       "        2.75032531e-314, 0.00000000e+000, 2.75032531e-314],\n",
       "       [1.61608841e-147, 1.52299797e-008, 1.00000000e+000, ...,\n",
       "        3.77724997e-282, 2.75032531e-314, 0.00000000e+000]])"
      ]
     },
     "execution_count": 34,
     "metadata": {},
     "output_type": "execute_result"
    }
   ],
   "source": [
    "gs"
   ]
  },
  {
   "cell_type": "code",
   "execution_count": 35,
   "metadata": {},
   "outputs": [
    {
     "name": "stderr",
     "output_type": "stream",
     "text": [
      "/private/home/koustuvs/miniconda3/envs/lgw/lib/python3.7/site-packages/sklearn/cluster/spectral.py:462: UserWarning: The spectral clustering API has changed. ``fit``now constructs an affinity matrix from data. To use a custom affinity matrix, set ``affinity=precomputed``.\n",
      "  warnings.warn(\"The spectral clustering API has changed. ``fit``\"\n"
     ]
    }
   ],
   "source": [
    "from sklearn.cluster import SpectralClustering\n",
    "# mat = np.matrix(similarity)\n",
    "sp = SpectralClustering(5).fit_predict(gs)"
   ]
  },
  {
   "cell_type": "code",
   "execution_count": 37,
   "metadata": {},
   "outputs": [],
   "source": [
    "from collections import Counter"
   ]
  },
  {
   "cell_type": "code",
   "execution_count": 38,
   "metadata": {},
   "outputs": [
    {
     "data": {
      "text/plain": [
       "Counter({4: 11, 2: 12, 3: 12, 1: 11, 0: 11})"
      ]
     },
     "execution_count": 38,
     "metadata": {},
     "output_type": "execute_result"
    }
   ],
   "source": [
    "Counter(sp)"
   ]
  },
  {
   "cell_type": "code",
   "execution_count": 39,
   "metadata": {},
   "outputs": [],
   "source": [
    "rule_splits = []\n",
    "for i in range(5):\n",
    "    rs = []\n",
    "    for ri, rule in enumerate(rules):\n",
    "        if sp[ri] == i:\n",
    "            rs.append(rule)\n",
    "    rule_splits.append(rs)"
   ]
  },
  {
   "cell_type": "code",
   "execution_count": 1077,
   "metadata": {},
   "outputs": [
    {
     "data": {
      "text/plain": [
       "[['rule_7',\n",
       "  'rule_0',\n",
       "  'rule_9',\n",
       "  'rule_2',\n",
       "  'rule_5',\n",
       "  'rule_4',\n",
       "  'rule_3',\n",
       "  'rule_1',\n",
       "  'rule_6',\n",
       "  'rule_10',\n",
       "  'rule_8'],\n",
       " ['rule_32',\n",
       "  'rule_29',\n",
       "  'rule_23',\n",
       "  'rule_33',\n",
       "  'rule_28',\n",
       "  'rule_25',\n",
       "  'rule_31',\n",
       "  'rule_26',\n",
       "  'rule_30',\n",
       "  'rule_24',\n",
       "  'rule_27'],\n",
       " ['rule_39',\n",
       "  'rule_45',\n",
       "  'rule_40',\n",
       "  'rule_41',\n",
       "  'rule_34',\n",
       "  'rule_35',\n",
       "  'rule_43',\n",
       "  'rule_38',\n",
       "  'rule_42',\n",
       "  'rule_37',\n",
       "  'rule_44',\n",
       "  'rule_36'],\n",
       " ['rule_13',\n",
       "  'rule_12',\n",
       "  'rule_21',\n",
       "  'rule_14',\n",
       "  'rule_22',\n",
       "  'rule_16',\n",
       "  'rule_19',\n",
       "  'rule_15',\n",
       "  'rule_17',\n",
       "  'rule_11',\n",
       "  'rule_18',\n",
       "  'rule_20'],\n",
       " ['rule_49',\n",
       "  'rule_50',\n",
       "  'rule_46',\n",
       "  'rule_48',\n",
       "  'rule_47',\n",
       "  'rule_51',\n",
       "  'rule_52',\n",
       "  'rule_53',\n",
       "  'rule_54',\n",
       "  'rule_55',\n",
       "  'rule_56']]"
      ]
     },
     "execution_count": 1077,
     "metadata": {},
     "output_type": "execute_result"
    }
   ],
   "source": [
    "rule_splits"
   ]
  },
  {
   "cell_type": "code",
   "execution_count": null,
   "metadata": {},
   "outputs": [],
   "source": [
    "all_rules_mat['rule_7']"
   ]
  },
  {
   "cell_type": "code",
   "execution_count": 43,
   "metadata": {},
   "outputs": [
    {
     "data": {
      "text/plain": [
       "9"
      ]
     },
     "execution_count": 43,
     "metadata": {},
     "output_type": "execute_result"
    }
   ],
   "source": [
    "rules.index('rule_7')"
   ]
  },
  {
   "cell_type": "code",
   "execution_count": 64,
   "metadata": {},
   "outputs": [
    {
     "data": {
      "text/plain": [
       "0"
      ]
     },
     "execution_count": 64,
     "metadata": {},
     "output_type": "execute_result"
    }
   ],
   "source": [
    "similarity_dist[rules.index('rule_5')][rules.index('rule_56')]"
   ]
  },
  {
   "cell_type": "code",
   "execution_count": 51,
   "metadata": {},
   "outputs": [],
   "source": [
    "## Create train and test splits\n",
    "rule_train_test_splits = {}\n",
    "for ri,rs in enumerate(rule_splits):\n",
    "    train,test = train_test_split(rs, train_size=0.8)\n",
    "    rule_train_test_splits[ri] = {'train': train, 'test': test}"
   ]
  },
  {
   "cell_type": "markdown",
   "metadata": {},
   "source": [
    "## Dataset Statistics"
   ]
  },
  {
   "cell_type": "code",
   "execution_count": 620,
   "metadata": {},
   "outputs": [
    {
     "name": "stdout",
     "output_type": "stream",
     "text": [
      "Total number of worlds : 57\n",
      "Total number of distinct rules : 76\n"
     ]
    }
   ],
   "source": [
    "print(\"Total number of worlds : {}\".format(len(num_des)))\n",
    "print(\"Total number of distinct rules : {}\".format(len(set([r for k,v in all_rules_mat.items() for r in v]))))"
   ]
  },
  {
   "cell_type": "code",
   "execution_count": 619,
   "metadata": {},
   "outputs": [
    {
     "data": {
      "text/plain": [
       "57"
      ]
     },
     "execution_count": 619,
     "metadata": {},
     "output_type": "execute_result"
    }
   ],
   "source": [
    "len(all_rules_mat)"
   ]
  },
  {
   "cell_type": "code",
   "execution_count": 621,
   "metadata": {},
   "outputs": [
    {
     "name": "stdout",
     "output_type": "stream",
     "text": [
      "Average number of descriptors : 522.0701754385965\n"
     ]
    }
   ],
   "source": [
    "print(\"Average number of descriptors : {}\".format(np.mean([n[1] for n in num_des])))"
   ]
  },
  {
   "cell_type": "code",
   "execution_count": 623,
   "metadata": {},
   "outputs": [],
   "source": [
    "num_des_dict = {n[0]:n[1] for n in num_des}"
   ]
  },
  {
   "cell_type": "code",
   "execution_count": 633,
   "metadata": {},
   "outputs": [
    {
     "data": {
      "text/plain": [
       "5230"
      ]
     },
     "execution_count": 633,
     "metadata": {},
     "output_type": "execute_result"
    }
   ],
   "source": [
    "max(num_des_dict.values())"
   ]
  },
  {
   "cell_type": "code",
   "execution_count": 634,
   "metadata": {},
   "outputs": [
    {
     "data": {
      "text/plain": [
       "114"
      ]
     },
     "execution_count": 634,
     "metadata": {},
     "output_type": "execute_result"
    }
   ],
   "source": [
    "min(num_des_dict.values())"
   ]
  },
  {
   "cell_type": "code",
   "execution_count": 631,
   "metadata": {},
   "outputs": [
    {
     "name": "stdout",
     "output_type": "stream",
     "text": [
      "Average number of descriptors for easy rules : 1055.5\n",
      "Average number of descriptors for medium rules : 385.76\n",
      "Average number of descriptors for hard rules : 240.53\n"
     ]
    }
   ],
   "source": [
    "easy_num_des = [num_des_dict[n] for n in easy_rules]\n",
    "print(\"Average number of descriptors for easy rules : {}\".format(round(np.mean(easy_num_des),2)))\n",
    "medium_num_des = [num_des_dict[n] for n in medium_rules]\n",
    "print(\"Average number of descriptors for medium rules : {}\".format(round(np.mean(medium_num_des),2)))\n",
    "hard_num_des = [num_des_dict[n] for n in hard_rules]\n",
    "print(\"Average number of descriptors for hard rules : {}\".format(round(np.mean(hard_num_des),2)))"
   ]
  },
  {
   "cell_type": "markdown",
   "metadata": {},
   "source": [
    "## Experiment 1 - Train on one similar split and evaluate on a similar split\n",
    "\n",
    "`multitask_sim_sim`"
   ]
  },
  {
   "cell_type": "code",
   "execution_count": 54,
   "metadata": {},
   "outputs": [
    {
     "data": {
      "text/plain": [
       "'rule_5,rule_7,rule_1,rule_6,rule_9,rule_3,rule_2,rule_10'"
      ]
     },
     "execution_count": 54,
     "metadata": {},
     "output_type": "execute_result"
    }
   ],
   "source": [
    "# train rules\n",
    "','.join(rule_train_test_splits[0]['train'])"
   ]
  },
  {
   "cell_type": "code",
   "execution_count": 58,
   "metadata": {},
   "outputs": [
    {
     "data": {
      "text/plain": [
       "'rule_4,rule_8,rule_0'"
      ]
     },
     "execution_count": 58,
     "metadata": {},
     "output_type": "execute_result"
    }
   ],
   "source": [
    "# test rules\n",
    "','.join(rule_train_test_splits[0]['test'])"
   ]
  },
  {
   "cell_type": "code",
   "execution_count": 142,
   "metadata": {},
   "outputs": [],
   "source": [
    "similar_train = 'rule_5,rule_7,rule_1,rule_6,rule_9,rule_3,rule_2,rule_10'"
   ]
  },
  {
   "cell_type": "code",
   "execution_count": 104,
   "metadata": {},
   "outputs": [
    {
     "data": {
      "text/plain": [
       "19.0"
      ]
     },
     "execution_count": 104,
     "metadata": {},
     "output_type": "execute_result"
    }
   ],
   "source": [
    "mean_max_overlap('rule_5,rule_7,rule_1,rule_6,rule_9,rule_3,rule_2,rule_10','rule_4,rule_8,rule_0')"
   ]
  },
  {
   "cell_type": "code",
   "execution_count": 134,
   "metadata": {},
   "outputs": [
    {
     "data": {
      "text/plain": [
       "0.6896551724137931"
      ]
     },
     "execution_count": 134,
     "metadata": {},
     "output_type": "execute_result"
    }
   ],
   "source": [
    "perc_overlap('rule_5,rule_7,rule_1,rule_6,rule_9,rule_3,rule_2,rule_10','rule_4')"
   ]
  },
  {
   "cell_type": "code",
   "execution_count": 133,
   "metadata": {},
   "outputs": [
    {
     "data": {
      "text/plain": [
       "0.6896551724137931"
      ]
     },
     "execution_count": 133,
     "metadata": {},
     "output_type": "execute_result"
    }
   ],
   "source": [
    "perc_overlap('rule_5,rule_7,rule_1,rule_6,rule_9,rule_3,rule_2,rule_10','rule_8')"
   ]
  },
  {
   "cell_type": "code",
   "execution_count": 132,
   "metadata": {},
   "outputs": [
    {
     "data": {
      "text/plain": [
       "0.6551724137931034"
      ]
     },
     "execution_count": 132,
     "metadata": {},
     "output_type": "execute_result"
    }
   ],
   "source": [
    "perc_overlap('rule_5,rule_7,rule_1,rule_6,rule_9,rule_3,rule_2,rule_10','rule_0')"
   ]
  },
  {
   "cell_type": "markdown",
   "metadata": {},
   "source": [
    "|    | rep_fn   | comp_fn   | mode   | test_rule   |   updates |   accuracy |   minibatch |   epoch |   loss |   k | top_mode   | rule_world           |\n",
    "|----|----------|-----------|--------|-------------|-----------|------------|-------------|---------|--------|-----|------------|----------------------|\n",
    "|  0 | GAT      | E-GAT     | test   |             |         0 |      0.225 |           0 |    1500 |  5.213 |   0 | test       | rule_4,rule_8,rule_0 |\n",
    "|  1 | Param    | E-GAT     | test   |             |         0 |      0.213 |           0 |    1500 |  5.723 |   0 | test       | rule_4,rule_8,rule_0 |\n",
    "|  2 | GCN      | E-GAT     | test   |             |         0 |      0.219 |           0 |    1500 |  5.39  |   0 | test       | rule_4,rule_8,rule_0 |\n",
    "|  3 | GAT      | RGCN      | test   |             |         0 |      0.181 |           0 |    1500 |  7.347 |   0 | test       | rule_4,rule_8,rule_0 |\n",
    "|  4 | Param    | RGCN      | test   |             |         0 |      0.224 |           0 |    1500 |  4.975 |   0 | test       | rule_4,rule_8,rule_0 |\n",
    "|  5 | GCN      | RGCN      | test   |             |         0 |      0.186 |           0 |    1500 |  9.465 |   0 | test       | rule_4,rule_8,rule_0 |"
   ]
  },
  {
   "cell_type": "code",
   "execution_count": 297,
   "metadata": {},
   "outputs": [
    {
     "name": "stdout",
     "output_type": "stream",
     "text": [
      "1.0\n",
      "0.5\n",
      "0.0\n"
     ]
    }
   ],
   "source": [
    "gradient = ['rule_4,rule_8,rule_1',\n",
    "'rule_15,rule_20,rule_25',\n",
    "'rule_40,rule_45,rule_50']\n",
    "for g in gradient:\n",
    "    print(perc_overlap_list(similar_train, g))"
   ]
  },
  {
   "cell_type": "code",
   "execution_count": 298,
   "metadata": {},
   "outputs": [],
   "source": [
    "gradient_names = {g:round(perc_overlap_list(similar_train, g), 3) for g in gradient}"
   ]
  },
  {
   "cell_type": "code",
   "execution_count": 299,
   "metadata": {},
   "outputs": [
    {
     "data": {
      "text/plain": [
       "{'rule_4,rule_8,rule_1': 1.0,\n",
       " 'rule_15,rule_20,rule_25': 0.5,\n",
       " 'rule_40,rule_45,rule_50': 0.0}"
      ]
     },
     "execution_count": 299,
     "metadata": {},
     "output_type": "execute_result"
    }
   ],
   "source": [
    "gradient_names"
   ]
  },
  {
   "cell_type": "code",
   "execution_count": null,
   "metadata": {},
   "outputs": [],
   "source": [
    "import matplotlib.pyplt"
   ]
  },
  {
   "cell_type": "code",
   "execution_count": 243,
   "metadata": {},
   "outputs": [],
   "source": [
    "import pandas as pd"
   ]
  },
  {
   "cell_type": "code",
   "execution_count": 300,
   "metadata": {},
   "outputs": [],
   "source": [
    "sim_df = pd.read_csv('../scripts/multitask_logic_sim_sim_eval_results.csv')"
   ]
  },
  {
   "cell_type": "code",
   "execution_count": 301,
   "metadata": {},
   "outputs": [],
   "source": [
    "sim_df = sim_df[sim_df.rule_world.isin(gradient_names.keys())]"
   ]
  },
  {
   "cell_type": "code",
   "execution_count": 397,
   "metadata": {},
   "outputs": [],
   "source": [
    "sim_df_b = calc_recovery(sim_df)"
   ]
  },
  {
   "cell_type": "code",
   "execution_count": 304,
   "metadata": {},
   "outputs": [],
   "source": [
    "sim_df['rule_sp'] = sim_df.rule_world.apply(lambda x: gradient_names[x])"
   ]
  },
  {
   "cell_type": "code",
   "execution_count": 400,
   "metadata": {},
   "outputs": [],
   "source": [
    "sim_df_b.to_csv('clean_data/multitask_logic_sim_sim_eval_rec.csv')"
   ]
  },
  {
   "cell_type": "code",
   "execution_count": 344,
   "metadata": {},
   "outputs": [],
   "source": [
    "### Correlate with absolute performance in the supervised setup\n",
    "### Add a new metric : `recovery` - if it is > 100%, then its awesome"
   ]
  },
  {
   "cell_type": "code",
   "execution_count": 396,
   "metadata": {},
   "outputs": [],
   "source": [
    "def calc_recovery(df):\n",
    "    df['baseline'] = 0.0\n",
    "    for i,row in df.iterrows():\n",
    "        rule_worlds = row['rule_world'].split(',')\n",
    "        #print(rule_worlds)\n",
    "        #print(\"get_baseline({}, {}, rule)\".format(row['rep_fn'], row['comp_fn']))\n",
    "        mean_baseline = np.mean([get_baseline(row['rep_fn'], row['comp_fn'], rule) for rule in rule_worlds])\n",
    "        df.at[i,'baseline'] = mean_baseline\n",
    "    df['recovery'] = df.accuracy / df.baseline\n",
    "    return df"
   ]
  },
  {
   "cell_type": "code",
   "execution_count": 345,
   "metadata": {},
   "outputs": [],
   "source": [
    "supervised_all = pd.read_csv('supervised_result_complete.csv')"
   ]
  },
  {
   "cell_type": "code",
   "execution_count": 361,
   "metadata": {},
   "outputs": [],
   "source": [
    "clean_model_names = {\n",
    "    \"GatedNodeGatEncoder\": \"GAT\",\n",
    "    \"GatedGatEncoder\": \"E-GAT\",\n",
    "    \"RepresentationGCNEncoder\": \"GCN\",\n",
    "    \"CompositionRGCNEncoder\": \"RGCN\",\n",
    "    \"Param\": \"Param\",\n",
    "}\n",
    "supervised_all['rep_fn'] = supervised_all.model_representation_fn_path.apply(lambda x: clean_model_names[x.split('.')[-1]])\n",
    "supervised_all['comp_fn'] = supervised_all.model_composition_fn_path.apply(lambda x: clean_model_names[x.split('.')[-1]])"
   ]
  },
  {
   "cell_type": "code",
   "execution_count": 640,
   "metadata": {},
   "outputs": [],
   "source": [
    "supervised_test = pd.read_csv('supervised_result_complete_test.csv')\n",
    "supervised_test['rep_fn'] = supervised_test.model_representation_fn_path.apply(lambda x: clean_model_names[x.split('.')[-1]])\n",
    "supervised_test['comp_fn'] = supervised_test.model_composition_fn_path.apply(lambda x: clean_model_names[x.split('.')[-1]])"
   ]
  },
  {
   "cell_type": "code",
   "execution_count": 593,
   "metadata": {},
   "outputs": [],
   "source": [
    "def get_baseline(rep_fn, comp_fn, rule):\n",
    "    if rule in ['rule_54','rule_55','rule_56']:\n",
    "        rez = supervised_test[(supervised_test.rep_fn == rep_fn) & (supervised_test.comp_fn == comp_fn) & (supervised_test.general_train_rule == rule)]\n",
    "        rez['train_test_accuracy'] = rez.test_test_accuracy\n",
    "    else:\n",
    "        rez = supervised_all[(supervised_all.rep_fn == rep_fn) & (supervised_all.comp_fn == comp_fn) & (supervised_all.general_train_rule == rule)]\n",
    "    return rez['train_test_accuracy'].values[0]"
   ]
  },
  {
   "cell_type": "code",
   "execution_count": 358,
   "metadata": {},
   "outputs": [
    {
     "data": {
      "text/plain": [
       "0.9083378165960312"
      ]
     },
     "execution_count": 358,
     "metadata": {},
     "output_type": "execute_result"
    }
   ],
   "source": [
    "get_baseline('codes.model.gat.sig_edge_gat.GatedNodeGatEncoder', 'codes.model.gat.edge_gat.GatedGatEncoder', 'rule_34')"
   ]
  },
  {
   "cell_type": "code",
   "execution_count": 594,
   "metadata": {},
   "outputs": [
    {
     "name": "stderr",
     "output_type": "stream",
     "text": [
      "/private/home/koustuvs/miniconda3/envs/lgw/lib/python3.7/site-packages/ipykernel_launcher.py:4: SettingWithCopyWarning: \n",
      "A value is trying to be set on a copy of a slice from a DataFrame.\n",
      "Try using .loc[row_indexer,col_indexer] = value instead\n",
      "\n",
      "See the caveats in the documentation: http://pandas.pydata.org/pandas-docs/stable/user_guide/indexing.html#returning-a-view-versus-a-copy\n",
      "  after removing the cwd from sys.path.\n"
     ]
    },
    {
     "data": {
      "text/plain": [
       "0.6379983872175217"
      ]
     },
     "execution_count": 594,
     "metadata": {},
     "output_type": "execute_result"
    }
   ],
   "source": [
    "get_baseline('GAT', 'E-GAT', 'rule_54')"
   ]
  },
  {
   "cell_type": "code",
   "execution_count": 415,
   "metadata": {},
   "outputs": [],
   "source": [
    "conv_sim_sim = pd.read_csv('raw_data/convergence_sim_sim.csv')"
   ]
  },
  {
   "cell_type": "code",
   "execution_count": 417,
   "metadata": {},
   "outputs": [],
   "source": [
    "conv_sim_sim['rep_fn'] = conv_sim_sim.model_representation_fn_path.apply(lambda x: clean_model_names[x.split('.')[-1]])\n",
    "conv_sim_sim['comp_fn'] = conv_sim_sim.model_composition_fn_path.apply(lambda x: clean_model_names[x.split('.')[-1]])"
   ]
  },
  {
   "cell_type": "code",
   "execution_count": 418,
   "metadata": {},
   "outputs": [],
   "source": [
    "def get_conv_sim(rep_fn, comp_fn, rule):\n",
    "    rez = conv_sim_sim[(conv_sim_sim.rep_fn == rep_fn) & (conv_sim_sim.comp_fn == comp_fn) & (conv_sim_sim.general_train_rule == rule)]\n",
    "    return rez['train_test_accuracy'].values[0]"
   ]
  },
  {
   "cell_type": "code",
   "execution_count": 422,
   "metadata": {},
   "outputs": [
    {
     "data": {
      "text/plain": [
       "0.5059267207980156"
      ]
     },
     "execution_count": 422,
     "metadata": {},
     "output_type": "execute_result"
    }
   ],
   "source": [
    "get_conv_sim('GAT', 'E-GAT', 'rule_40')"
   ]
  },
  {
   "cell_type": "code",
   "execution_count": 426,
   "metadata": {},
   "outputs": [],
   "source": [
    "def calc_conv_sim(df):\n",
    "    df['k_conv'] = 0.0\n",
    "    for i,row in df.iterrows():\n",
    "        rule_worlds = row['rule_world'].split(',')\n",
    "        #print(rule_worlds)\n",
    "        #print(\"get_baseline({}, {}, rule)\".format(row['rep_fn'], row['comp_fn']))\n",
    "        mean_baseline = np.mean([get_conv_sim(row['rep_fn'], row['comp_fn'], rule) for rule in rule_worlds])\n",
    "        df.at[i,'k_conv'] = mean_baseline\n",
    "    df['recovery_conv'] = df.k_conv / df.baseline\n",
    "    return df"
   ]
  },
  {
   "cell_type": "code",
   "execution_count": 427,
   "metadata": {},
   "outputs": [],
   "source": [
    "sim_df_c = calc_conv_sim(sim_df_b)"
   ]
  },
  {
   "cell_type": "code",
   "execution_count": 429,
   "metadata": {},
   "outputs": [],
   "source": [
    "sim_df_c.to_csv('clean_data/multitask_logic_sim_sim_eval_conv.csv')"
   ]
  },
  {
   "cell_type": "markdown",
   "metadata": {},
   "source": [
    "## Table - Inductive Training on Similar datasets"
   ]
  },
  {
   "cell_type": "code",
   "execution_count": 1074,
   "metadata": {},
   "outputs": [],
   "source": [
    "sim_sim_all = pd.read_csv('raw_data/multitask_logic_sim_sim_eval_all_results.csv')"
   ]
  },
  {
   "cell_type": "code",
   "execution_count": 1075,
   "metadata": {},
   "outputs": [
    {
     "data": {
      "text/html": [
       "<div>\n",
       "<style scoped>\n",
       "    .dataframe tbody tr th:only-of-type {\n",
       "        vertical-align: middle;\n",
       "    }\n",
       "\n",
       "    .dataframe tbody tr th {\n",
       "        vertical-align: top;\n",
       "    }\n",
       "\n",
       "    .dataframe thead th {\n",
       "        text-align: right;\n",
       "    }\n",
       "</style>\n",
       "<table border=\"1\" class=\"dataframe\">\n",
       "  <thead>\n",
       "    <tr style=\"text-align: right;\">\n",
       "      <th></th>\n",
       "      <th>Unnamed: 0</th>\n",
       "      <th>rep_fn</th>\n",
       "      <th>comp_fn</th>\n",
       "      <th>mode</th>\n",
       "      <th>test_rule</th>\n",
       "      <th>updates</th>\n",
       "      <th>accuracy</th>\n",
       "      <th>minibatch</th>\n",
       "      <th>epoch</th>\n",
       "      <th>acc_std</th>\n",
       "      <th>loss</th>\n",
       "      <th>k</th>\n",
       "      <th>top_mode</th>\n",
       "      <th>rule_world</th>\n",
       "    </tr>\n",
       "  </thead>\n",
       "  <tbody>\n",
       "    <tr>\n",
       "      <th>0</th>\n",
       "      <td>0</td>\n",
       "      <td>GAT</td>\n",
       "      <td>E-GAT</td>\n",
       "      <td>test</td>\n",
       "      <td>NaN</td>\n",
       "      <td>0</td>\n",
       "      <td>0.534</td>\n",
       "      <td>0</td>\n",
       "      <td>1900</td>\n",
       "      <td>0.109</td>\n",
       "      <td>2.597</td>\n",
       "      <td>0</td>\n",
       "      <td>test</td>\n",
       "      <td>rule_5,rule_7,rule_1,rule_6,rule_9,rule_3,rule...</td>\n",
       "    </tr>\n",
       "    <tr>\n",
       "      <th>3</th>\n",
       "      <td>3</td>\n",
       "      <td>GAT</td>\n",
       "      <td>RGCN</td>\n",
       "      <td>test</td>\n",
       "      <td>NaN</td>\n",
       "      <td>0</td>\n",
       "      <td>0.474</td>\n",
       "      <td>0</td>\n",
       "      <td>1900</td>\n",
       "      <td>0.109</td>\n",
       "      <td>3.262</td>\n",
       "      <td>0</td>\n",
       "      <td>test</td>\n",
       "      <td>rule_5,rule_7,rule_1,rule_6,rule_9,rule_3,rule...</td>\n",
       "    </tr>\n",
       "    <tr>\n",
       "      <th>2</th>\n",
       "      <td>2</td>\n",
       "      <td>GCN</td>\n",
       "      <td>E-GAT</td>\n",
       "      <td>test</td>\n",
       "      <td>NaN</td>\n",
       "      <td>0</td>\n",
       "      <td>0.522</td>\n",
       "      <td>0</td>\n",
       "      <td>1900</td>\n",
       "      <td>0.100</td>\n",
       "      <td>2.609</td>\n",
       "      <td>0</td>\n",
       "      <td>test</td>\n",
       "      <td>rule_5,rule_7,rule_1,rule_6,rule_9,rule_3,rule...</td>\n",
       "    </tr>\n",
       "    <tr>\n",
       "      <th>5</th>\n",
       "      <td>5</td>\n",
       "      <td>GCN</td>\n",
       "      <td>RGCN</td>\n",
       "      <td>test</td>\n",
       "      <td>NaN</td>\n",
       "      <td>0</td>\n",
       "      <td>0.448</td>\n",
       "      <td>0</td>\n",
       "      <td>1900</td>\n",
       "      <td>0.089</td>\n",
       "      <td>4.142</td>\n",
       "      <td>0</td>\n",
       "      <td>test</td>\n",
       "      <td>rule_5,rule_7,rule_1,rule_6,rule_9,rule_3,rule...</td>\n",
       "    </tr>\n",
       "    <tr>\n",
       "      <th>1</th>\n",
       "      <td>1</td>\n",
       "      <td>Param</td>\n",
       "      <td>E-GAT</td>\n",
       "      <td>test</td>\n",
       "      <td>NaN</td>\n",
       "      <td>0</td>\n",
       "      <td>0.507</td>\n",
       "      <td>0</td>\n",
       "      <td>1900</td>\n",
       "      <td>0.091</td>\n",
       "      <td>2.625</td>\n",
       "      <td>0</td>\n",
       "      <td>test</td>\n",
       "      <td>rule_5,rule_7,rule_1,rule_6,rule_9,rule_3,rule...</td>\n",
       "    </tr>\n",
       "    <tr>\n",
       "      <th>4</th>\n",
       "      <td>4</td>\n",
       "      <td>Param</td>\n",
       "      <td>RGCN</td>\n",
       "      <td>test</td>\n",
       "      <td>NaN</td>\n",
       "      <td>0</td>\n",
       "      <td>0.416</td>\n",
       "      <td>0</td>\n",
       "      <td>1900</td>\n",
       "      <td>0.075</td>\n",
       "      <td>2.488</td>\n",
       "      <td>0</td>\n",
       "      <td>test</td>\n",
       "      <td>rule_5,rule_7,rule_1,rule_6,rule_9,rule_3,rule...</td>\n",
       "    </tr>\n",
       "  </tbody>\n",
       "</table>\n",
       "</div>"
      ],
      "text/plain": [
       "   Unnamed: 0 rep_fn comp_fn  mode  test_rule  updates  accuracy  minibatch  \\\n",
       "0           0    GAT   E-GAT  test        NaN        0     0.534          0   \n",
       "3           3    GAT    RGCN  test        NaN        0     0.474          0   \n",
       "2           2    GCN   E-GAT  test        NaN        0     0.522          0   \n",
       "5           5    GCN    RGCN  test        NaN        0     0.448          0   \n",
       "1           1  Param   E-GAT  test        NaN        0     0.507          0   \n",
       "4           4  Param    RGCN  test        NaN        0     0.416          0   \n",
       "\n",
       "   epoch  acc_std   loss  k top_mode  \\\n",
       "0   1900    0.109  2.597  0     test   \n",
       "3   1900    0.109  3.262  0     test   \n",
       "2   1900    0.100  2.609  0     test   \n",
       "5   1900    0.089  4.142  0     test   \n",
       "1   1900    0.091  2.625  0     test   \n",
       "4   1900    0.075  2.488  0     test   \n",
       "\n",
       "                                          rule_world  \n",
       "0  rule_5,rule_7,rule_1,rule_6,rule_9,rule_3,rule...  \n",
       "3  rule_5,rule_7,rule_1,rule_6,rule_9,rule_3,rule...  \n",
       "2  rule_5,rule_7,rule_1,rule_6,rule_9,rule_3,rule...  \n",
       "5  rule_5,rule_7,rule_1,rule_6,rule_9,rule_3,rule...  \n",
       "1  rule_5,rule_7,rule_1,rule_6,rule_9,rule_3,rule...  \n",
       "4  rule_5,rule_7,rule_1,rule_6,rule_9,rule_3,rule...  "
      ]
     },
     "execution_count": 1075,
     "metadata": {},
     "output_type": "execute_result"
    }
   ],
   "source": [
    "sim_sim_all.sort_values(by=\"rep_fn\")"
   ]
  },
  {
   "cell_type": "code",
   "execution_count": 497,
   "metadata": {},
   "outputs": [],
   "source": [
    "# print latex\n",
    "def print_latex_body(df):\n",
    "    df = df.sort_values(by='rep_fn')\n",
    "    for i,row in df.iterrows():\n",
    "        print(\"{} & {} & {} \\pm{{{}}}\".format(row['rep_fn'],row['comp_fn'],round(row['accuracy'],3),round(row['acc_std'],2)))"
   ]
  },
  {
   "cell_type": "code",
   "execution_count": 498,
   "metadata": {},
   "outputs": [
    {
     "name": "stdout",
     "output_type": "stream",
     "text": [
      "GAT & E-GAT & 0.534 \\pm{0.11}\n",
      "GAT & RGCN & 0.474 \\pm{0.11}\n",
      "GCN & E-GAT & 0.522 \\pm{0.1}\n",
      "GCN & RGCN & 0.448 \\pm{0.09}\n",
      "Param & E-GAT & 0.507 \\pm{0.09}\n",
      "Param & RGCN & 0.416 \\pm{0.07}\n"
     ]
    }
   ],
   "source": [
    "print_latex_body(sim_sim_all)"
   ]
  },
  {
   "cell_type": "code",
   "execution_count": 650,
   "metadata": {},
   "outputs": [],
   "source": [
    "supervised_test['ind_acc'] = 0.0\n",
    "for i,row in supervised_test.iterrows():\n",
    "    if not pd.isnull(row['test_test_accuracy']):\n",
    "        supervised_test.at[i,'ind_acc'] = row['test_test_accuracy']\n",
    "    else:\n",
    "        supervised_test.at[i,'ind_acc'] = get_baseline(row['rep_fn'], row['comp_fn'], row['general_train_rule'])\n",
    "    supervised_test.at[i,'num_des'] = num_des_dict[row['general_train_rule']]"
   ]
  },
  {
   "cell_type": "code",
   "execution_count": 653,
   "metadata": {},
   "outputs": [],
   "source": [
    "supervised_test['rule_id'] = supervised_test.general_train_rule.apply(lambda x: int(x.split('_')[-1]))"
   ]
  },
  {
   "cell_type": "code",
   "execution_count": 657,
   "metadata": {},
   "outputs": [],
   "source": [
    "supervised_test['model'] = supervised_test.rep_fn + '_' + supervised_test.comp_fn"
   ]
  },
  {
   "cell_type": "code",
   "execution_count": 660,
   "metadata": {},
   "outputs": [],
   "source": [
    "cleaned_sup_test = supervised_test.sort_values(by='rule_id')[['general_train_rule','num_des','model','ind_acc']]"
   ]
  },
  {
   "cell_type": "code",
   "execution_count": 667,
   "metadata": {},
   "outputs": [],
   "source": [
    "row_lines = []\n",
    "last_row_w = ''\n",
    "row_j = {}\n",
    "for i,row in cleaned_sup_test.iterrows():\n",
    "    if last_row_w != row['general_train_rule']:\n",
    "        if len(row_j) > 0:\n",
    "            row_lines.append(row_j)\n",
    "        row_j = {'World ID':row['general_train_rule'], 'Number of Descriptors': int(row['num_des'])}\n",
    "        last_row_w = row['general_train_rule']\n",
    "    row_j.update({row['model']: round(row['ind_acc'],3)})\n",
    "row_lines.append(row_j)"
   ]
  },
  {
   "cell_type": "code",
   "execution_count": 668,
   "metadata": {},
   "outputs": [],
   "source": [
    "all_models_table = pd.DataFrame(row_lines)"
   ]
  },
  {
   "cell_type": "code",
   "execution_count": 671,
   "metadata": {},
   "outputs": [
    {
     "data": {
      "text/plain": [
       "Number of Descriptors    776.417417\n",
       "GAT_RGCN                   0.136884\n",
       "GCN_E-GAT                  0.139301\n",
       "Param_RGCN                 0.133182\n",
       "GCN_RGCN                   0.136612\n",
       "Param_E-GAT                0.144128\n",
       "GAT_E-GAT                  0.141933\n",
       "dtype: float64"
      ]
     },
     "execution_count": 671,
     "metadata": {},
     "output_type": "execute_result"
    }
   ],
   "source": [
    "all_models_table.std()"
   ]
  },
  {
   "cell_type": "code",
   "execution_count": 672,
   "metadata": {},
   "outputs": [],
   "source": [
    "### Adaptation on Similar to Sim + Diss\n",
    "ad_5 = pd.read_csv('../scripts/multitask_logic_sim_sim_k5eval_results.csv')\n",
    "ad_10 = pd.read_csv('../scripts/multitask_logic_sim_sim_k10eval_results.csv')\n",
    "ad_15 = pd.read_csv('../scripts/multitask_logic_sim_sim_k15eval_results.csv')\n",
    "ad_20 = pd.read_csv('../scripts/multitask_logic_sim_sim_k20eval_results.csv')"
   ]
  },
  {
   "cell_type": "code",
   "execution_count": 695,
   "metadata": {},
   "outputs": [],
   "source": [
    "rule_grouping = {\n",
    "    'rule_4,': 1,\n",
    "    'rule_8,': 1,\n",
    "    'rule_1,': 1,\n",
    "    'rule_15,': 2,\n",
    "    'rule_20,': 2,\n",
    "    'rule_25,': 2,\n",
    "    'rule_40,': 3,\n",
    "    'rule_45,': 3,\n",
    "    'rule_50,': 3\n",
    "}\n",
    "rule_grouping_gr = {\n",
    "    'rule_4,rule_8,rule_1': 1,\n",
    "    'rule_15,rule_20,rule_25': 2,\n",
    "    'rule_40,rule_45,rule_50': 3\n",
    "}"
   ]
  },
  {
   "cell_type": "code",
   "execution_count": 694,
   "metadata": {},
   "outputs": [],
   "source": [
    "ad_0 = sim_df_c.copy()"
   ]
  },
  {
   "cell_type": "code",
   "execution_count": 696,
   "metadata": {},
   "outputs": [],
   "source": [
    "ad_0['model'] = ad_0.rep_fn + '_' + ad_0.comp_fn\n",
    "ad_0['group'] = ad_0.rule_world.apply(lambda x: rule_grouping_gr[x])"
   ]
  },
  {
   "cell_type": "code",
   "execution_count": 691,
   "metadata": {},
   "outputs": [],
   "source": [
    "ad_5['model'] = ad_5.rep_fn + '_' + ad_5.comp_fn\n",
    "ad_5['group'] = ad_5.rule_world.apply(lambda x: rule_grouping[x])\n",
    "ad_10['model'] = ad_10.rep_fn + '_' + ad_10.comp_fn\n",
    "ad_10['group'] = ad_10.rule_world.apply(lambda x: rule_grouping[x])\n",
    "ad_15['model'] = ad_15.rep_fn + '_' + ad_15.comp_fn\n",
    "ad_15['group'] = ad_15.rule_world.apply(lambda x: rule_grouping[x])\n",
    "ad_20['model'] = ad_20.rep_fn + '_' + ad_20.comp_fn\n",
    "ad_20['group'] = ad_20.rule_world.apply(lambda x: rule_grouping[x])"
   ]
  },
  {
   "cell_type": "code",
   "execution_count": 698,
   "metadata": {},
   "outputs": [],
   "source": [
    "ad_0 = ad_0.groupby(['group','model']).mean().reset_index()\n",
    "ad_5 = ad_5.groupby(['group','model']).mean().reset_index()\n",
    "ad_10 = ad_10.groupby(['group','model']).mean().reset_index()\n",
    "ad_15 = ad_15.groupby(['group','model']).mean().reset_index()\n",
    "ad_20 = ad_20.groupby(['group','model']).mean().reset_index()"
   ]
  },
  {
   "cell_type": "code",
   "execution_count": 701,
   "metadata": {},
   "outputs": [],
   "source": [
    "ad_0['k'] = 0\n",
    "ad_5['k'] = 5\n",
    "ad_10['k'] = 10\n",
    "ad_15['k'] = 15\n",
    "ad_20['k'] = 20"
   ]
  },
  {
   "cell_type": "code",
   "execution_count": 702,
   "metadata": {},
   "outputs": [
    {
     "name": "stderr",
     "output_type": "stream",
     "text": [
      "/private/home/koustuvs/miniconda3/envs/lgw/lib/python3.7/site-packages/ipykernel_launcher.py:1: FutureWarning: Sorting because non-concatenation axis is not aligned. A future version\n",
      "of pandas will change to not sort by default.\n",
      "\n",
      "To accept the future behavior, pass 'sort=False'.\n",
      "\n",
      "To retain the current behavior and silence the warning, pass 'sort=True'.\n",
      "\n",
      "  \"\"\"Entry point for launching an IPython kernel.\n"
     ]
    }
   ],
   "source": [
    "ad_all = pd.concat([ad_0, ad_5, ad_10, ad_15, ad_20])"
   ]
  },
  {
   "cell_type": "code",
   "execution_count": 704,
   "metadata": {},
   "outputs": [],
   "source": [
    "ad_all = ad_all[['model','accuracy','k','group']]"
   ]
  },
  {
   "cell_type": "code",
   "execution_count": 706,
   "metadata": {},
   "outputs": [],
   "source": [
    "ad_all.to_csv('clean_data/multitask_sim_all_adapt.csv')"
   ]
  },
  {
   "cell_type": "markdown",
   "metadata": {},
   "source": [
    "## Experiment 2 - Train on one similar split and evaluate on a dissimilar split"
   ]
  },
  {
   "cell_type": "code",
   "execution_count": 60,
   "metadata": {},
   "outputs": [
    {
     "data": {
      "text/plain": [
       "'rule_5,rule_7,rule_1,rule_6,rule_9,rule_3,rule_2,rule_10'"
      ]
     },
     "execution_count": 60,
     "metadata": {},
     "output_type": "execute_result"
    }
   ],
   "source": [
    "# train rules\n",
    "','.join(rule_train_test_splits[0]['train'])"
   ]
  },
  {
   "cell_type": "code",
   "execution_count": 61,
   "metadata": {},
   "outputs": [
    {
     "data": {
      "text/plain": [
       "'rule_39,rule_34,rule_43'"
      ]
     },
     "execution_count": 61,
     "metadata": {},
     "output_type": "execute_result"
    }
   ],
   "source": [
    "# test rules\n",
    "','.join(rule_train_test_splits[2]['test'])"
   ]
  },
  {
   "cell_type": "code",
   "execution_count": 135,
   "metadata": {},
   "outputs": [
    {
     "data": {
      "text/plain": [
       "'rule_29,rule_32,rule_23'"
      ]
     },
     "execution_count": 135,
     "metadata": {},
     "output_type": "execute_result"
    }
   ],
   "source": [
    "','.join(rule_train_test_splits[1]['test'])"
   ]
  },
  {
   "cell_type": "code",
   "execution_count": 136,
   "metadata": {},
   "outputs": [
    {
     "data": {
      "text/plain": [
       "'rule_11,rule_12,rule_18'"
      ]
     },
     "execution_count": 136,
     "metadata": {},
     "output_type": "execute_result"
    }
   ],
   "source": [
    "','.join(rule_train_test_splits[3]['test'])"
   ]
  },
  {
   "cell_type": "code",
   "execution_count": 137,
   "metadata": {},
   "outputs": [
    {
     "data": {
      "text/plain": [
       "'rule_47,rule_51,rule_55'"
      ]
     },
     "execution_count": 137,
     "metadata": {},
     "output_type": "execute_result"
    }
   ],
   "source": [
    "','.join(rule_train_test_splits[4]['test'])"
   ]
  },
  {
   "cell_type": "markdown",
   "metadata": {},
   "source": [
    "|    | rep_fn   | comp_fn   | mode   | test_rule   |   updates |   accuracy |   minibatch |   epoch |   loss |   k | top_mode   | rule_world              |\n",
    "|----|----------|-----------|--------|-------------|-----------|------------|-------------|---------|--------|-----|------------|-------------------------|\n",
    "|  0 | GAT      | E-GAT     | test   |             |         0 |      0.099 |           0 |    1500 |  8.129 |   0 | test       | rule_39,rule_34,rule_43 |\n",
    "|  1 | Param    | E-GAT     | test   |             |         0 |      0.095 |           0 |    1500 |  8.604 |   0 | test       | rule_39,rule_34,rule_43 |\n",
    "|  2 | GCN      | E-GAT     | test   |             |         0 |      0.109 |           0 |    1500 |  8.375 |   0 | test       | rule_39,rule_34,rule_43 |\n",
    "|  3 | GAT      | RGCN      | test   |             |         0 |      0.108 |           0 |    1500 | 10.618 |   0 | test       | rule_39,rule_34,rule_43 |\n",
    "|  4 | Param    | RGCN      | test   |             |         0 |      0.092 |           0 |    1500 |  9.011 |   0 | test       | rule_39,rule_34,rule_43 |\n",
    "|  5 | GCN      | RGCN      | test   |             |         0 |      0.104 |           0 |    1500 | 14.914 |   0 | test       | rule_39,rule_34,rule_43 |"
   ]
  },
  {
   "cell_type": "markdown",
   "metadata": {},
   "source": [
    "## Experiment 3 - Train on mix of similar and dissimilar split and evaluate the change in the above"
   ]
  },
  {
   "cell_type": "code",
   "execution_count": 57,
   "metadata": {},
   "outputs": [
    {
     "data": {
      "text/plain": [
       "'rule_5,rule_7,rule_1,rule_6,rule_9,rule_53,rule_50,rule_56'"
      ]
     },
     "execution_count": 57,
     "metadata": {},
     "output_type": "execute_result"
    }
   ],
   "source": [
    "# train_rules\n",
    "','.join(rule_train_test_splits[0]['train'][:-3] + rule_train_test_splits[4]['train'][0:3])"
   ]
  },
  {
   "cell_type": "code",
   "execution_count": 59,
   "metadata": {},
   "outputs": [
    {
     "data": {
      "text/plain": [
       "'rule_4,rule_8,rule_0'"
      ]
     },
     "execution_count": 59,
     "metadata": {},
     "output_type": "execute_result"
    }
   ],
   "source": [
    "# test rules\n",
    "','.join(rule_train_test_splits[0]['test'])"
   ]
  },
  {
   "cell_type": "code",
   "execution_count": 266,
   "metadata": {},
   "outputs": [],
   "source": [
    "sim_dis_train = 'rule_5,rule_7,rule_1,rule_6,rule_9,rule_53,rule_50,rule_56'"
   ]
  },
  {
   "cell_type": "code",
   "execution_count": 106,
   "metadata": {},
   "outputs": [
    {
     "data": {
      "text/plain": [
       "19.0"
      ]
     },
     "execution_count": 106,
     "metadata": {},
     "output_type": "execute_result"
    }
   ],
   "source": [
    "mean_max_overlap('rule_5,rule_7,rule_1,rule_6,rule_9,rule_53,rule_50,rule_56','rule_4,rule_8,rule_0')"
   ]
  },
  {
   "cell_type": "markdown",
   "metadata": {},
   "source": [
    "|    | rep_fn   | comp_fn   | mode   | test_rule   |   updates |   accuracy |   minibatch |   epoch |   loss |   k | top_mode   | rule_world           |\n",
    "|----|----------|-----------|--------|-------------|-----------|------------|-------------|---------|--------|-----|------------|----------------------|\n",
    "|  0 | GAT      | E-GAT     | test   |             |         0 |      0.203 |           0 |    1500 |  5.994 |   0 | test       | rule_4,rule_8,rule_0 |\n",
    "|  1 | Param    | E-GAT     | test   |             |         0 |      0.186 |           0 |    1500 |  6.042 |   0 | test       | rule_4,rule_8,rule_0 |\n",
    "|  2 | GCN      | E-GAT     | test   |             |         0 |      0.223 |           0 |    1500 |  5.872 |   0 | test       | rule_4,rule_8,rule_0 |\n",
    "|  3 | GAT      | RGCN      | test   |             |         0 |      0.196 |           0 |    1500 |  8.36  |   0 | test       | rule_4,rule_8,rule_0 |\n",
    "|  4 | Param    | RGCN      | test   |             |         0 |      0.195 |           0 |    1500 |  6.435 |   0 | test       | rule_4,rule_8,rule_0 |\n",
    "|  5 | GCN      | RGCN      | test   |             |         0 |      0.201 |           0 |    1500 |  9.655 |   0 | test       | rule_4,rule_8,rule_0 |"
   ]
  },
  {
   "cell_type": "code",
   "execution_count": 404,
   "metadata": {},
   "outputs": [],
   "source": [
    "gradient = ['rule_4,rule_8,rule_1',\n",
    "'rule_15,rule_20,rule_23',\n",
    "'rule_30,rule_31,rule_32']"
   ]
  },
  {
   "cell_type": "code",
   "execution_count": 405,
   "metadata": {},
   "outputs": [
    {
     "name": "stdout",
     "output_type": "stream",
     "text": [
      "1.0\n",
      "0.5\n",
      "0.09090909090909091\n"
     ]
    }
   ],
   "source": [
    "for g in gradient:\n",
    "    print(perc_overlap_list(sim_dis_train, g))"
   ]
  },
  {
   "cell_type": "code",
   "execution_count": 406,
   "metadata": {},
   "outputs": [],
   "source": [
    "gradient_names = {g:round(perc_overlap_list(sim_dis_train, g), 3) for g in gradient}"
   ]
  },
  {
   "cell_type": "code",
   "execution_count": 407,
   "metadata": {},
   "outputs": [
    {
     "data": {
      "text/plain": [
       "{'rule_4,rule_8,rule_1': 1.0,\n",
       " 'rule_15,rule_20,rule_23': 0.5,\n",
       " 'rule_30,rule_31,rule_32': 0.091}"
      ]
     },
     "execution_count": 407,
     "metadata": {},
     "output_type": "execute_result"
    }
   ],
   "source": [
    "gradient_names"
   ]
  },
  {
   "cell_type": "code",
   "execution_count": 408,
   "metadata": {},
   "outputs": [],
   "source": [
    "gradient_names['rule_30,rule_31,rule_32'] = 0"
   ]
  },
  {
   "cell_type": "code",
   "execution_count": 437,
   "metadata": {},
   "outputs": [],
   "source": [
    "sim_dis_df = pd.read_csv('../scripts/multitask_logic_sim_dis_eval_results.csv')\n",
    "sim_dis_df['rule_sp'] = sim_dis_df.rule_world.apply(lambda x: gradient_names[x])\n",
    "#sim_dis_df.to_csv('clean_data/multitask_logic_sim_dis_eval.csv')"
   ]
  },
  {
   "cell_type": "code",
   "execution_count": 438,
   "metadata": {},
   "outputs": [],
   "source": [
    "sim_dis_df_b = calc_recovery(sim_dis_df)"
   ]
  },
  {
   "cell_type": "code",
   "execution_count": 411,
   "metadata": {},
   "outputs": [],
   "source": [
    "sim_dis_df_b.to_csv('clean_data/multitask_logic_sim_dis_eval_rec.csv')"
   ]
  },
  {
   "cell_type": "code",
   "execution_count": 446,
   "metadata": {},
   "outputs": [],
   "source": [
    "conv_sim_dis = pd.read_csv('raw_data/convergence_sim_dis.csv')\n",
    "conv_sim_dis['rep_fn'] = conv_sim_dis.model_representation_fn_path.apply(lambda x: clean_model_names[x.split('.')[-1]])\n",
    "conv_sim_dis['comp_fn'] = conv_sim_dis.model_composition_fn_path.apply(lambda x: clean_model_names[x.split('.')[-1]])"
   ]
  },
  {
   "cell_type": "code",
   "execution_count": 447,
   "metadata": {},
   "outputs": [],
   "source": [
    "def get_conv_sim_dis(rep_fn, comp_fn, rule):\n",
    "    rez = conv_sim_dis[(conv_sim_dis.rep_fn == rep_fn) & (conv_sim_dis.comp_fn == comp_fn) & (conv_sim_dis.general_train_rule == rule)]\n",
    "    return rez['train_test_accuracy'].values[0]"
   ]
  },
  {
   "cell_type": "code",
   "execution_count": 448,
   "metadata": {},
   "outputs": [
    {
     "data": {
      "text/plain": [
       "0.486328125"
      ]
     },
     "execution_count": 448,
     "metadata": {},
     "output_type": "execute_result"
    }
   ],
   "source": [
    "get_conv_sim_dis('GAT', 'E-GAT', 'rule_23')"
   ]
  },
  {
   "cell_type": "code",
   "execution_count": 450,
   "metadata": {},
   "outputs": [],
   "source": [
    "def calc_conv_sim_dis(df):\n",
    "    df['k_conv'] = 0.0\n",
    "    for i,row in df.iterrows():\n",
    "        rule_worlds = row['rule_world'].split(',')\n",
    "        #print(rule_worlds)\n",
    "        #print(\"get_baseline({}, {}, rule)\".format(row['rep_fn'], row['comp_fn']))\n",
    "        mean_baseline = np.mean([get_conv_sim_dis(row['rep_fn'], row['comp_fn'], rule) for rule in rule_worlds])\n",
    "        df.at[i,'k_conv'] = mean_baseline\n",
    "    df['recovery_conv'] = df.k_conv / df.baseline\n",
    "    return df"
   ]
  },
  {
   "cell_type": "code",
   "execution_count": 451,
   "metadata": {},
   "outputs": [],
   "source": [
    "sim_dis_df_c = calc_conv_sim_dis(sim_dis_df_b)"
   ]
  },
  {
   "cell_type": "code",
   "execution_count": 453,
   "metadata": {},
   "outputs": [],
   "source": [
    "sim_dis_df_c.to_csv('clean_data/multitask_logic_sim_dis_eval_conv.csv')"
   ]
  },
  {
   "cell_type": "markdown",
   "metadata": {},
   "source": [
    "## Table : Inductive Training on Dissimilar datasets"
   ]
  },
  {
   "cell_type": "code",
   "execution_count": 1076,
   "metadata": {},
   "outputs": [
    {
     "data": {
      "text/html": [
       "<div>\n",
       "<style scoped>\n",
       "    .dataframe tbody tr th:only-of-type {\n",
       "        vertical-align: middle;\n",
       "    }\n",
       "\n",
       "    .dataframe tbody tr th {\n",
       "        vertical-align: top;\n",
       "    }\n",
       "\n",
       "    .dataframe thead th {\n",
       "        text-align: right;\n",
       "    }\n",
       "</style>\n",
       "<table border=\"1\" class=\"dataframe\">\n",
       "  <thead>\n",
       "    <tr style=\"text-align: right;\">\n",
       "      <th></th>\n",
       "      <th>Unnamed: 0</th>\n",
       "      <th>rep_fn</th>\n",
       "      <th>comp_fn</th>\n",
       "      <th>mode</th>\n",
       "      <th>test_rule</th>\n",
       "      <th>updates</th>\n",
       "      <th>accuracy</th>\n",
       "      <th>minibatch</th>\n",
       "      <th>epoch</th>\n",
       "      <th>acc_std</th>\n",
       "      <th>loss</th>\n",
       "      <th>k</th>\n",
       "      <th>top_mode</th>\n",
       "      <th>rule_world</th>\n",
       "    </tr>\n",
       "  </thead>\n",
       "  <tbody>\n",
       "    <tr>\n",
       "      <th>0</th>\n",
       "      <td>0</td>\n",
       "      <td>GAT</td>\n",
       "      <td>E-GAT</td>\n",
       "      <td>test</td>\n",
       "      <td>NaN</td>\n",
       "      <td>0</td>\n",
       "      <td>0.534</td>\n",
       "      <td>0</td>\n",
       "      <td>1900</td>\n",
       "      <td>0.092</td>\n",
       "      <td>2.838</td>\n",
       "      <td>0</td>\n",
       "      <td>test</td>\n",
       "      <td>rule_5,rule_7,rule_1,rule_6,rule_9,rule_53,rul...</td>\n",
       "    </tr>\n",
       "    <tr>\n",
       "      <th>3</th>\n",
       "      <td>3</td>\n",
       "      <td>GAT</td>\n",
       "      <td>RGCN</td>\n",
       "      <td>test</td>\n",
       "      <td>NaN</td>\n",
       "      <td>0</td>\n",
       "      <td>0.502</td>\n",
       "      <td>0</td>\n",
       "      <td>1900</td>\n",
       "      <td>0.085</td>\n",
       "      <td>3.340</td>\n",
       "      <td>0</td>\n",
       "      <td>test</td>\n",
       "      <td>rule_5,rule_7,rule_1,rule_6,rule_9,rule_53,rul...</td>\n",
       "    </tr>\n",
       "    <tr>\n",
       "      <th>2</th>\n",
       "      <td>2</td>\n",
       "      <td>GCN</td>\n",
       "      <td>E-GAT</td>\n",
       "      <td>test</td>\n",
       "      <td>NaN</td>\n",
       "      <td>0</td>\n",
       "      <td>0.533</td>\n",
       "      <td>0</td>\n",
       "      <td>1900</td>\n",
       "      <td>0.093</td>\n",
       "      <td>2.686</td>\n",
       "      <td>0</td>\n",
       "      <td>test</td>\n",
       "      <td>rule_5,rule_7,rule_1,rule_6,rule_9,rule_53,rul...</td>\n",
       "    </tr>\n",
       "    <tr>\n",
       "      <th>5</th>\n",
       "      <td>5</td>\n",
       "      <td>GCN</td>\n",
       "      <td>RGCN</td>\n",
       "      <td>test</td>\n",
       "      <td>NaN</td>\n",
       "      <td>0</td>\n",
       "      <td>0.476</td>\n",
       "      <td>0</td>\n",
       "      <td>1900</td>\n",
       "      <td>0.089</td>\n",
       "      <td>4.232</td>\n",
       "      <td>0</td>\n",
       "      <td>test</td>\n",
       "      <td>rule_5,rule_7,rule_1,rule_6,rule_9,rule_53,rul...</td>\n",
       "    </tr>\n",
       "    <tr>\n",
       "      <th>1</th>\n",
       "      <td>1</td>\n",
       "      <td>Param</td>\n",
       "      <td>E-GAT</td>\n",
       "      <td>test</td>\n",
       "      <td>NaN</td>\n",
       "      <td>0</td>\n",
       "      <td>0.500</td>\n",
       "      <td>0</td>\n",
       "      <td>1900</td>\n",
       "      <td>0.089</td>\n",
       "      <td>2.967</td>\n",
       "      <td>0</td>\n",
       "      <td>test</td>\n",
       "      <td>rule_5,rule_7,rule_1,rule_6,rule_9,rule_53,rul...</td>\n",
       "    </tr>\n",
       "    <tr>\n",
       "      <th>4</th>\n",
       "      <td>4</td>\n",
       "      <td>Param</td>\n",
       "      <td>RGCN</td>\n",
       "      <td>test</td>\n",
       "      <td>NaN</td>\n",
       "      <td>0</td>\n",
       "      <td>0.449</td>\n",
       "      <td>0</td>\n",
       "      <td>1900</td>\n",
       "      <td>0.070</td>\n",
       "      <td>2.605</td>\n",
       "      <td>0</td>\n",
       "      <td>test</td>\n",
       "      <td>rule_5,rule_7,rule_1,rule_6,rule_9,rule_53,rul...</td>\n",
       "    </tr>\n",
       "  </tbody>\n",
       "</table>\n",
       "</div>"
      ],
      "text/plain": [
       "   Unnamed: 0 rep_fn comp_fn  mode  test_rule  updates  accuracy  minibatch  \\\n",
       "0           0    GAT   E-GAT  test        NaN        0     0.534          0   \n",
       "3           3    GAT    RGCN  test        NaN        0     0.502          0   \n",
       "2           2    GCN   E-GAT  test        NaN        0     0.533          0   \n",
       "5           5    GCN    RGCN  test        NaN        0     0.476          0   \n",
       "1           1  Param   E-GAT  test        NaN        0     0.500          0   \n",
       "4           4  Param    RGCN  test        NaN        0     0.449          0   \n",
       "\n",
       "   epoch  acc_std   loss  k top_mode  \\\n",
       "0   1900    0.092  2.838  0     test   \n",
       "3   1900    0.085  3.340  0     test   \n",
       "2   1900    0.093  2.686  0     test   \n",
       "5   1900    0.089  4.232  0     test   \n",
       "1   1900    0.089  2.967  0     test   \n",
       "4   1900    0.070  2.605  0     test   \n",
       "\n",
       "                                          rule_world  \n",
       "0  rule_5,rule_7,rule_1,rule_6,rule_9,rule_53,rul...  \n",
       "3  rule_5,rule_7,rule_1,rule_6,rule_9,rule_53,rul...  \n",
       "2  rule_5,rule_7,rule_1,rule_6,rule_9,rule_53,rul...  \n",
       "5  rule_5,rule_7,rule_1,rule_6,rule_9,rule_53,rul...  \n",
       "1  rule_5,rule_7,rule_1,rule_6,rule_9,rule_53,rul...  \n",
       "4  rule_5,rule_7,rule_1,rule_6,rule_9,rule_53,rul...  "
      ]
     },
     "execution_count": 1076,
     "metadata": {},
     "output_type": "execute_result"
    }
   ],
   "source": [
    "sim_dis_all = pd.read_csv('raw_data/multitask_logic_sim_dis_eval_all_results.csv')\n",
    "sim_dis_all.sort_values(by=\"rep_fn\")"
   ]
  },
  {
   "cell_type": "code",
   "execution_count": 496,
   "metadata": {},
   "outputs": [
    {
     "name": "stdout",
     "output_type": "stream",
     "text": [
      "GAT & E-GAT & 0.534 & \\pm{0.09}\n",
      "GAT & RGCN & 0.502 & \\pm{0.09}\n",
      "GCN & E-GAT & 0.533 & \\pm{0.09}\n",
      "GCN & RGCN & 0.476 & \\pm{0.09}\n",
      "Param & E-GAT & 0.5 & \\pm{0.09}\n",
      "Param & RGCN & 0.449 & \\pm{0.07}\n"
     ]
    }
   ],
   "source": [
    "print_latex_body(sim_dis_all)"
   ]
  },
  {
   "cell_type": "markdown",
   "metadata": {},
   "source": [
    "## Experiment 3.1 - Train on a mix of similar and dissimilar, where the distribution of dissimilars are from a different distribution"
   ]
  },
  {
   "cell_type": "code",
   "execution_count": 109,
   "metadata": {},
   "outputs": [
    {
     "data": {
      "text/plain": [
       "'rule_5,rule_7,rule_1,rule_6,rule_9,rule_53,rule_22,rule_38'"
      ]
     },
     "execution_count": 109,
     "metadata": {},
     "output_type": "execute_result"
    }
   ],
   "source": [
    "# train_rules\n",
    "','.join(rule_train_test_splits[0]['train'][:-3] + [rule_train_test_splits[4]['train'][0], rule_train_test_splits[3]['train'][2], rule_train_test_splits[2]['train'][4]])"
   ]
  },
  {
   "cell_type": "code",
   "execution_count": 110,
   "metadata": {},
   "outputs": [
    {
     "data": {
      "text/plain": [
       "'rule_4,rule_8,rule_0'"
      ]
     },
     "execution_count": 110,
     "metadata": {},
     "output_type": "execute_result"
    }
   ],
   "source": [
    "# test rules\n",
    "','.join(rule_train_test_splits[0]['test'])"
   ]
  },
  {
   "cell_type": "markdown",
   "metadata": {},
   "source": [
    "|    | rep_fn   | comp_fn   | mode   | test_rule   |   updates |   accuracy |   minibatch |   epoch |   loss |   k | top_mode   | rule_world           |\n",
    "|----|----------|-----------|--------|-------------|-----------|------------|-------------|---------|--------|-----|------------|----------------------|\n",
    "|  0 | GAT      | E-GAT     | test   |             |         0 |      0.209 |           0 |    1500 |  5.71  |   0 | test       | rule_4,rule_8,rule_0 |\n",
    "|  1 | Param    | E-GAT     | test   |             |         0 |      0.182 |           0 |    1500 |  5.862 |   0 | test       | rule_4,rule_8,rule_0 |\n",
    "|  2 | GCN      | E-GAT     | test   |             |         0 |      0.19  |           0 |    1500 |  5.343 |   0 | test       | rule_4,rule_8,rule_0 |\n",
    "|  3 | GAT      | RGCN      | test   |             |         0 |      0.172 |           0 |    1500 |  7.361 |   0 | test       | rule_4,rule_8,rule_0 |\n",
    "|  4 | Param    | RGCN      | test   |             |         0 |      0.165 |           0 |    1500 |  5.822 |   0 | test       | rule_4,rule_8,rule_0 |\n",
    "|  5 | GCN      | RGCN      | test   |             |         0 |      0.157 |           0 |    1500 |  9.7   |   0 | test       | rule_4,rule_8,rule_0 |"
   ]
  },
  {
   "cell_type": "code",
   "execution_count": 336,
   "metadata": {},
   "outputs": [],
   "source": [
    "## evidence experiment"
   ]
  },
  {
   "cell_type": "code",
   "execution_count": 339,
   "metadata": {},
   "outputs": [
    {
     "name": "stdout",
     "output_type": "stream",
     "text": [
      "1.0\n",
      "1.0\n",
      "1.0\n"
     ]
    }
   ],
   "source": [
    "sim_diff = 'rule_5,rule_7,rule_1,rule_6,rule_9,rule_53,rule_22,rule_38'\n",
    "for g in gradient:\n",
    "    print(perc_overlap_list(sim_diff, g))"
   ]
  },
  {
   "cell_type": "code",
   "execution_count": 343,
   "metadata": {},
   "outputs": [
    {
     "name": "stdout",
     "output_type": "stream",
     "text": [
      "1.8641975308641976\n",
      "1.7678571428571428\n",
      "0.46969696969696967\n"
     ]
    }
   ],
   "source": [
    "for g in gradient:\n",
    "    print(count_overlap_list(sim_diff, g))"
   ]
  },
  {
   "cell_type": "code",
   "execution_count": 324,
   "metadata": {},
   "outputs": [
    {
     "data": {
      "text/plain": [
       "['rule_4,rule_8,rule_1', 'rule_15,rule_20,rule_23', 'rule_30,rule_31,rule_32']"
      ]
     },
     "execution_count": 324,
     "metadata": {},
     "output_type": "execute_result"
    }
   ],
   "source": [
    "gradient"
   ]
  },
  {
   "cell_type": "code",
   "execution_count": 325,
   "metadata": {},
   "outputs": [],
   "source": [
    "gradient_names = {g:round(perc_overlap_list(sim_diff, g), 3) for g in gradient}"
   ]
  },
  {
   "cell_type": "code",
   "execution_count": 328,
   "metadata": {},
   "outputs": [
    {
     "data": {
      "text/plain": [
       "{'rule_4,rule_8,rule_1': 'Set A',\n",
       " 'rule_15,rule_20,rule_23': 'Set B',\n",
       " 'rule_30,rule_31,rule_32': 'Set C'}"
      ]
     },
     "execution_count": 328,
     "metadata": {},
     "output_type": "execute_result"
    }
   ],
   "source": [
    "gradient_names"
   ]
  },
  {
   "cell_type": "code",
   "execution_count": 327,
   "metadata": {},
   "outputs": [],
   "source": [
    "gradient_names['rule_4,rule_8,rule_1'] = 'Set A'\n",
    "gradient_names['rule_15,rule_20,rule_23'] = 'Set B'\n",
    "gradient_names['rule_30,rule_31,rule_32'] = 'Set C'"
   ]
  },
  {
   "cell_type": "code",
   "execution_count": 329,
   "metadata": {},
   "outputs": [],
   "source": [
    "sim_dis_df = pd.read_csv('../scripts/multitask_logic_sim_diff_eval_results.csv')\n",
    "sim_dis_df['rule_sp'] = sim_dis_df.rule_world.apply(lambda x: gradient_names[x])\n",
    "sim_dis_df.to_csv('clean_data/multitask_logic_sim_diff_eval.csv')"
   ]
  },
  {
   "cell_type": "code",
   "execution_count": 175,
   "metadata": {},
   "outputs": [],
   "source": [
    "asl = [all_rules_mat[r] for r in sim_diff.split(',')]\n",
    "asl = [x for r in asl for x in r]"
   ]
  },
  {
   "cell_type": "code",
   "execution_count": 178,
   "metadata": {},
   "outputs": [
    {
     "data": {
      "text/plain": [
       "160"
      ]
     },
     "execution_count": 178,
     "metadata": {},
     "output_type": "execute_result"
    }
   ],
   "source": [
    "len(asl)"
   ]
  },
  {
   "cell_type": "code",
   "execution_count": 180,
   "metadata": {},
   "outputs": [],
   "source": [
    "tp = [all_rules_mat[r] for r in gradient[-1].split(',')]\n",
    "tp = [x for r in tp for x in r]"
   ]
  },
  {
   "cell_type": "code",
   "execution_count": 182,
   "metadata": {},
   "outputs": [],
   "source": [
    "aslc = Counter(asl)\n",
    "tpc = Counter(tp)"
   ]
  },
  {
   "cell_type": "code",
   "execution_count": 185,
   "metadata": {},
   "outputs": [
    {
     "data": {
      "text/plain": [
       "0.4166666666666667"
      ]
     },
     "execution_count": 185,
     "metadata": {},
     "output_type": "execute_result"
    }
   ],
   "source": [
    "len(tpc) / len(aslc)"
   ]
  },
  {
   "cell_type": "markdown",
   "metadata": {},
   "source": [
    "## Experiment: Train on entirely dissiimilar datasets"
   ]
  },
  {
   "cell_type": "code",
   "execution_count": 550,
   "metadata": {},
   "outputs": [],
   "source": [
    "diff_diff = 'rule_0,rule_1,rule_2,rule_16,rule_17,rule_18,rule_32,rule_33,rule_34'\n",
    "gradient = [\n",
    "    'rule_10,rule_20,rule_30',\n",
    "    'rule_6,rule_12,rule_25',\n",
    "    'rule_54,rule_55,rule_56'\n",
    "]"
   ]
  },
  {
   "cell_type": "code",
   "execution_count": 551,
   "metadata": {},
   "outputs": [
    {
     "name": "stdout",
     "output_type": "stream",
     "text": [
      "2.6625\n",
      "2.6794871794871793\n",
      "0.0\n"
     ]
    }
   ],
   "source": [
    "for g in gradient:\n",
    "    print(count_overlap_list(diff_diff, g))"
   ]
  },
  {
   "cell_type": "code",
   "execution_count": 552,
   "metadata": {},
   "outputs": [
    {
     "name": "stdout",
     "output_type": "stream",
     "text": [
      "1.0\n",
      "1.0\n",
      "0.0\n"
     ]
    }
   ],
   "source": [
    "for g in gradient:\n",
    "    print(perc_overlap_list(diff_diff, g))"
   ]
  },
  {
   "cell_type": "code",
   "execution_count": 553,
   "metadata": {},
   "outputs": [],
   "source": [
    "gradient_names = {g:round(perc_overlap_list(sim_diff, g), 3) for g in gradient} = {g:round(perc_overlap_list(diff_diff, g), 3) for g in gradient}"
   ]
  },
  {
   "cell_type": "code",
   "execution_count": 582,
   "metadata": {},
   "outputs": [
    {
     "data": {
      "text/plain": [
       "{'rule_10,rule_20,rule_30': 1.0,\n",
       " 'rule_6,rule_12,rule_25': 0.9,\n",
       " 'rule_54,rule_55,rule_56': 0.0}"
      ]
     },
     "execution_count": 582,
     "metadata": {},
     "output_type": "execute_result"
    }
   ],
   "source": [
    "gradient_names"
   ]
  },
  {
   "cell_type": "code",
   "execution_count": 555,
   "metadata": {},
   "outputs": [],
   "source": [
    "gradient_names['rule_6,rule_12,rule_25'] = 0.9"
   ]
  },
  {
   "cell_type": "code",
   "execution_count": 602,
   "metadata": {},
   "outputs": [],
   "source": [
    "conv_diff = pd.read_csv('raw_data/convergence_diff_diff.csv')\n",
    "conv_diff['rep_fn'] = conv_diff.model_representation_fn_path.apply(lambda x: clean_model_names[x.split('.')[-1]])\n",
    "conv_diff['comp_fn'] = conv_diff.model_composition_fn_path.apply(lambda x: clean_model_names[x.split('.')[-1]])\n",
    "def get_conv_diff(rep_fn, comp_fn, rule):\n",
    "    rez = conv_diff[(conv_diff.rep_fn == rep_fn) & (conv_diff.comp_fn == comp_fn) & (conv_diff.general_train_rule == rule)]\n",
    "    if rule in ['rule_54','rule_55','rule_56']:\n",
    "        return rez['test_test_accuracy'].values[0]\n",
    "    else:\n",
    "        return rez['train_test_accuracy'].values[0]"
   ]
  },
  {
   "cell_type": "code",
   "execution_count": 603,
   "metadata": {},
   "outputs": [],
   "source": [
    "def calc_conv_diff(df):\n",
    "    df['k_conv'] = 0.0\n",
    "    for i,row in df.iterrows():\n",
    "        rule_worlds = row['rule_world'].split(',')\n",
    "        #rint(rule_worlds)\n",
    "        #print(\"get_baseline({}, {}, rule)\".format(row['rep_fn'], row['comp_fn']))\n",
    "        mean_baseline = np.mean([get_conv_diff(row['rep_fn'], row['comp_fn'], rule) for rule in rule_worlds])\n",
    "        df.at[i,'k_conv'] = mean_baseline\n",
    "    df['recovery_conv'] = df.k_conv / df.baseline\n",
    "    return df"
   ]
  },
  {
   "cell_type": "code",
   "execution_count": 581,
   "metadata": {},
   "outputs": [],
   "source": [
    "diff_df = pd.read_csv('../scripts/multitask_logic_diff_diff_results.csv')"
   ]
  },
  {
   "cell_type": "code",
   "execution_count": 500,
   "metadata": {},
   "outputs": [],
   "source": [
    "# inductive test on the multitask train\n",
    "diff_all = pd.read_csv('../scripts/multitask_logic_diff_diff_eval_all_results.csv')"
   ]
  },
  {
   "cell_type": "code",
   "execution_count": 501,
   "metadata": {},
   "outputs": [
    {
     "name": "stdout",
     "output_type": "stream",
     "text": [
      "GAT & E-GAT & 0.515 \\pm{0.16}\n",
      "GAT & RGCN & 0.45 \\pm{0.17}\n",
      "GCN & E-GAT & 0.499 \\pm{0.15}\n",
      "GCN & RGCN & 0.451 \\pm{0.17}\n",
      "Param & E-GAT & 0.504 \\pm{0.14}\n",
      "Param & RGCN & 0.396 \\pm{0.13}\n"
     ]
    }
   ],
   "source": [
    "print_latex_body(diff_all)"
   ]
  },
  {
   "cell_type": "code",
   "execution_count": 583,
   "metadata": {},
   "outputs": [],
   "source": [
    "diff_df['rule_sp'] = diff_df.rule_world.apply(lambda x: gradient_names[x])"
   ]
  },
  {
   "cell_type": "code",
   "execution_count": 595,
   "metadata": {},
   "outputs": [
    {
     "name": "stderr",
     "output_type": "stream",
     "text": [
      "/private/home/koustuvs/miniconda3/envs/lgw/lib/python3.7/site-packages/ipykernel_launcher.py:4: SettingWithCopyWarning: \n",
      "A value is trying to be set on a copy of a slice from a DataFrame.\n",
      "Try using .loc[row_indexer,col_indexer] = value instead\n",
      "\n",
      "See the caveats in the documentation: http://pandas.pydata.org/pandas-docs/stable/user_guide/indexing.html#returning-a-view-versus-a-copy\n",
      "  after removing the cwd from sys.path.\n"
     ]
    }
   ],
   "source": [
    "diff_df_b = calc_recovery(diff_df)"
   ]
  },
  {
   "cell_type": "code",
   "execution_count": 604,
   "metadata": {},
   "outputs": [],
   "source": [
    "diff_df_c = calc_conv_diff(diff_df_b)"
   ]
  },
  {
   "cell_type": "code",
   "execution_count": 606,
   "metadata": {},
   "outputs": [],
   "source": [
    "diff_df_c.to_csv('clean_data/multitask_logic_diff_diff_eval_conv.csv')"
   ]
  },
  {
   "cell_type": "code",
   "execution_count": 567,
   "metadata": {},
   "outputs": [
    {
     "data": {
      "text/plain": [
       "array(['rule_25', 'rule_12', 'rule_10', 'rule_56', 'rule_20', 'rule_30',\n",
       "       'rule_6', 'rule_54', 'rule_55'], dtype=object)"
      ]
     },
     "execution_count": 567,
     "metadata": {},
     "output_type": "execute_result"
    }
   ],
   "source": [
    "conv_diff.general_train_rule.unique()"
   ]
  },
  {
   "cell_type": "code",
   "execution_count": 568,
   "metadata": {},
   "outputs": [
    {
     "data": {
      "text/plain": [
       "array(['GCN', 'Param', 'GAT'], dtype=object)"
      ]
     },
     "execution_count": 568,
     "metadata": {},
     "output_type": "execute_result"
    }
   ],
   "source": [
    "conv_diff.rep_fn.unique()"
   ]
  },
  {
   "cell_type": "code",
   "execution_count": 578,
   "metadata": {},
   "outputs": [
    {
     "data": {
      "text/plain": [
       "Series([], Name: train_test_accuracy, dtype: float64)"
      ]
     },
     "execution_count": 578,
     "metadata": {},
     "output_type": "execute_result"
    }
   ],
   "source": [
    "get_conv_diff('GAT','E-GAT','rule_10')"
   ]
  },
  {
   "cell_type": "code",
   "execution_count": 557,
   "metadata": {},
   "outputs": [],
   "source": [
    "diff_df.to_csv('clean_data/multitask_logic_diff_diff_eval.csv')"
   ]
  },
  {
   "cell_type": "markdown",
   "metadata": {},
   "source": [
    "## Splitting rules based on difficulty"
   ]
  },
  {
   "cell_type": "code",
   "execution_count": 65,
   "metadata": {},
   "outputs": [],
   "source": [
    "scores = [(0.9336, \"rule_34\"),\n",
    "(0.8482, \"rule_46\"),\n",
    "(0.8416, \"rule_37\"),\n",
    "(0.8286, \"rule_20\"),\n",
    "(0.8083, \"rule_48\"),\n",
    "(0.7993, \"rule_31\"),\n",
    "(0.7914, \"rule_35\"),\n",
    "(0.7868, \"rule_19\"),\n",
    "(0.7593, \"rule_9\"),\n",
    "(0.7438, \"rule_39\"),\n",
    "(0.7415, \"rule_49\"),\n",
    "(0.74, \"rule_12\"),\n",
    "(0.7377, \"rule_38\"),\n",
    "(0.7273, \"rule_47\"),\n",
    "(0.7265, \"rule_36\"),\n",
    "(0.713, \"rule_24\"),\n",
    "(0.6921, \"rule_18\"),\n",
    "(0.6898, \"rule_33\"),\n",
    "(0.6715, \"rule_32\"),\n",
    "(0.6645, \"rule_50\"),\n",
    "(0.6422, \"rule_8\"),\n",
    "(0.64, \"rule_10\"),\n",
    "(0.6392, \"rule_7\"),\n",
    "(0.6225, \"rule_4\"),\n",
    "(0.6099, \"rule_41\"),\n",
    "(0.6082, \"rule_21\"),\n",
    "(0.5977, \"rule_22\"),\n",
    "(0.5814, \"rule_43\"),\n",
    "(0.5773, \"rule_26\"),\n",
    "(0.572, \"rule_28\"),\n",
    "(0.5692, \"rule_45\"),\n",
    "(0.5561, \"rule_44\"),\n",
    "(0.5523, \"rule_11\"),\n",
    "(0.5336, \"rule_40\"),\n",
    "(0.5316, \"rule_42\"),\n",
    "(0.5165, \"rule_6\"),\n",
    "(0.516, \"rule_5\"),\n",
    "(0.5157, \"rule_23\"),\n",
    "(0.4964, \"rule_0\"),\n",
    "(0.4698, \"rule_15\"),\n",
    "(0.4605, \"rule_13\"),\n",
    "(0.432, \"rule_1\"),\n",
    "(0.417, \"rule_3\"),\n",
    "(0.4159, \"rule_25\"),\n",
    "(0.4089, \"rule_14\"),\n",
    "(0.4078, \"rule_29\"),\n",
    "(0.4048, \"rule_30\"),\n",
    "(0.3667, \"rule_2\"),\n",
    "(0.3417, \"rule_17\"),\n",
    "(0.3222, \"rule_16\")]"
   ]
  },
  {
   "cell_type": "code",
   "execution_count": 84,
   "metadata": {},
   "outputs": [],
   "source": [
    "easy_rules = [s[1] for s in scores if s[0] >= 0.70]\n",
    "medium_rules = [s[1] for s in scores if s[0] > 0.54 and s[0] < 0.7]\n",
    "hard_rules = [s[1] for s in scores if s[0] <= 0.54]"
   ]
  },
  {
   "cell_type": "code",
   "execution_count": 708,
   "metadata": {},
   "outputs": [],
   "source": [
    "difficulty_dict = {}\n",
    "for e in easy_rules:\n",
    "    difficulty_dict[e] = 'Easy World'\n",
    "for e in medium_rules:\n",
    "    difficulty_dict[e] = 'Medium World'\n",
    "for e in hard_rules:\n",
    "    difficulty_dict[e] = 'Hard World'"
   ]
  },
  {
   "cell_type": "code",
   "execution_count": 710,
   "metadata": {},
   "outputs": [],
   "source": [
    "import json"
   ]
  },
  {
   "cell_type": "code",
   "execution_count": 711,
   "metadata": {},
   "outputs": [],
   "source": [
    "json.dump(difficulty_dict, open('clean_data/difficulty_dict.json','w'))"
   ]
  },
  {
   "cell_type": "code",
   "execution_count": 707,
   "metadata": {},
   "outputs": [
    {
     "data": {
      "text/plain": [
       "['rule_34',\n",
       " 'rule_46',\n",
       " 'rule_37',\n",
       " 'rule_20',\n",
       " 'rule_48',\n",
       " 'rule_31',\n",
       " 'rule_35',\n",
       " 'rule_19',\n",
       " 'rule_9',\n",
       " 'rule_39',\n",
       " 'rule_49',\n",
       " 'rule_12',\n",
       " 'rule_38',\n",
       " 'rule_47',\n",
       " 'rule_36',\n",
       " 'rule_24']"
      ]
     },
     "execution_count": 707,
     "metadata": {},
     "output_type": "execute_result"
    }
   ],
   "source": [
    "easy_rules"
   ]
  },
  {
   "cell_type": "code",
   "execution_count": 712,
   "metadata": {},
   "outputs": [
    {
     "data": {
      "text/plain": [
       "['rule_40',\n",
       " 'rule_42',\n",
       " 'rule_6',\n",
       " 'rule_5',\n",
       " 'rule_23',\n",
       " 'rule_0',\n",
       " 'rule_15',\n",
       " 'rule_13',\n",
       " 'rule_1',\n",
       " 'rule_3',\n",
       " 'rule_25',\n",
       " 'rule_14',\n",
       " 'rule_29',\n",
       " 'rule_30',\n",
       " 'rule_2',\n",
       " 'rule_17',\n",
       " 'rule_16']"
      ]
     },
     "execution_count": 712,
     "metadata": {},
     "output_type": "execute_result"
    }
   ],
   "source": [
    "hard_rules"
   ]
  },
  {
   "cell_type": "code",
   "execution_count": 96,
   "metadata": {},
   "outputs": [],
   "source": [
    "def mean_max_overlap(tr,ts):\n",
    "    tr = tr.split(',')\n",
    "    ts = ts.split(',')\n",
    "    scores = []\n",
    "    for ti in ts:\n",
    "        scores.append(max([similarity_dist[rules.index(p)][rules.index(ti)] for p in tr]))\n",
    "    return np.mean(scores)"
   ]
  },
  {
   "cell_type": "code",
   "execution_count": 120,
   "metadata": {},
   "outputs": [],
   "source": [
    "def mean_overlap(tr, ts):\n",
    "    tr = tr.split(',')\n",
    "    scores = []\n",
    "    for ti in tr:\n",
    "        scores.append(similarity_dist[rules.index(ti)][rules.index(ts)])\n",
    "    return np.mean(scores)"
   ]
  },
  {
   "cell_type": "code",
   "execution_count": 131,
   "metadata": {},
   "outputs": [],
   "source": [
    "def perc_overlap(tr, ts):\n",
    "    tr = tr.split(',')\n",
    "    scores = []\n",
    "    all_rules = set([r for t in tr for r in all_rules_mat[t]])\n",
    "    test_rule = all_rules_mat[ts]\n",
    "    return len(all_rules_mat[ts].intersection(all_rules)) / len(all_rules)"
   ]
  },
  {
   "cell_type": "code",
   "execution_count": 191,
   "metadata": {},
   "outputs": [],
   "source": [
    "def perc_overlap_list(tr, ts):\n",
    "    tr = tr.split(',')\n",
    "    ts = ts.split(',')\n",
    "    scores = []\n",
    "    base_rules = [all_rules_mat[r] for r in tr]\n",
    "    base_rules = set([x for r in base_rules for x in r])\n",
    "    comp_rules = [all_rules_mat[r] for r in ts]\n",
    "    comp_rules = set([x for r in comp_rules for x in r])\n",
    "    return len(comp_rules.intersection(base_rules)) / len(base_rules)"
   ]
  },
  {
   "cell_type": "code",
   "execution_count": 236,
   "metadata": {},
   "outputs": [],
   "source": [
    "def perc_overlap_list(tr, ts):\n",
    "    tr = tr.split(',')\n",
    "    ts = ts.split(',')\n",
    "    scores = []\n",
    "    base_rules = [all_rules_mat[r] for r in tr]\n",
    "    base_rules = set([x for r in base_rules for x in r])\n",
    "    comp_rules = [all_rules_mat[r] for r in ts]\n",
    "    comp_rules = set([x for r in comp_rules for x in r])\n",
    "    return len(comp_rules.intersection(base_rules)) / len(comp_rules)"
   ]
  },
  {
   "cell_type": "code",
   "execution_count": 342,
   "metadata": {},
   "outputs": [],
   "source": [
    "def count_overlap_list(tr, ts):\n",
    "    tr = tr.split(',')\n",
    "    ts = ts.split(',')\n",
    "    scores = []\n",
    "    base_rules = [all_rules_mat[r] for r in tr]\n",
    "    base_rules = Counter([x for r in base_rules for x in r])\n",
    "    comp_rules = [all_rules_mat[r] for r in ts]\n",
    "    comp_rules = Counter([x for r in comp_rules for x in r])\n",
    "    return np.mean([base_rules[c]/comp_rules[c] if c in base_rules else 0 for c in comp_rules])"
   ]
  },
  {
   "cell_type": "code",
   "execution_count": 85,
   "metadata": {},
   "outputs": [
    {
     "data": {
      "text/plain": [
       "16"
      ]
     },
     "execution_count": 85,
     "metadata": {},
     "output_type": "execute_result"
    }
   ],
   "source": [
    "len(easy_rules)"
   ]
  },
  {
   "cell_type": "code",
   "execution_count": 86,
   "metadata": {},
   "outputs": [
    {
     "data": {
      "text/plain": [
       "17"
      ]
     },
     "execution_count": 86,
     "metadata": {},
     "output_type": "execute_result"
    }
   ],
   "source": [
    "len(medium_rules)"
   ]
  },
  {
   "cell_type": "code",
   "execution_count": 87,
   "metadata": {},
   "outputs": [
    {
     "data": {
      "text/plain": [
       "17"
      ]
     },
     "execution_count": 87,
     "metadata": {},
     "output_type": "execute_result"
    }
   ],
   "source": [
    "len(hard_rules)"
   ]
  },
  {
   "cell_type": "markdown",
   "metadata": {},
   "source": [
    "# Difficulty Experiments"
   ]
  },
  {
   "cell_type": "markdown",
   "metadata": {},
   "source": [
    "## Experiment 4: Multitask Train on Easy, eval on Easy"
   ]
  },
  {
   "cell_type": "code",
   "execution_count": 89,
   "metadata": {},
   "outputs": [
    {
     "data": {
      "text/plain": [
       "'rule_34,rule_46,rule_37,rule_20,rule_48,rule_31,rule_35,rule_19'"
      ]
     },
     "execution_count": 89,
     "metadata": {},
     "output_type": "execute_result"
    }
   ],
   "source": [
    "## train_easy\n",
    "','.join(easy_rules[:8])"
   ]
  },
  {
   "cell_type": "code",
   "execution_count": 93,
   "metadata": {},
   "outputs": [
    {
     "data": {
      "text/plain": [
       "'rule_47,rule_36,rule_24'"
      ]
     },
     "execution_count": 93,
     "metadata": {},
     "output_type": "execute_result"
    }
   ],
   "source": [
    "## test easy\n",
    "','.join(easy_rules[-3:])"
   ]
  },
  {
   "cell_type": "code",
   "execution_count": 713,
   "metadata": {},
   "outputs": [],
   "source": [
    "train_easy_worlds = 'rule_34,rule_46,rule_37,rule_20,rule_48,rule_31,rule_35,rule_19'"
   ]
  },
  {
   "cell_type": "code",
   "execution_count": 727,
   "metadata": {},
   "outputs": [],
   "source": [
    "test_easy_worlds = 'rule_47,rule_36,rule_24'"
   ]
  },
  {
   "cell_type": "code",
   "execution_count": 745,
   "metadata": {},
   "outputs": [],
   "source": [
    "test_easy_worlds = 'rule_9,rule_47,rule_24'"
   ]
  },
  {
   "cell_type": "markdown",
   "metadata": {},
   "source": [
    "- **config_path** : `multitask/multitask_logic_easy_easy`"
   ]
  },
  {
   "cell_type": "code",
   "execution_count": 746,
   "metadata": {},
   "outputs": [
    {
     "data": {
      "text/plain": [
       "15.0"
      ]
     },
     "execution_count": 746,
     "metadata": {},
     "output_type": "execute_result"
    }
   ],
   "source": [
    "mean_max_overlap(train_easy_worlds, test_easy_worlds)"
   ]
  },
  {
   "cell_type": "code",
   "execution_count": 730,
   "metadata": {},
   "outputs": [
    {
     "data": {
      "text/plain": [
       "['rule_34',\n",
       " 'rule_46',\n",
       " 'rule_37',\n",
       " 'rule_20',\n",
       " 'rule_48',\n",
       " 'rule_31',\n",
       " 'rule_35',\n",
       " 'rule_19',\n",
       " 'rule_9',\n",
       " 'rule_39',\n",
       " 'rule_49',\n",
       " 'rule_12',\n",
       " 'rule_38',\n",
       " 'rule_47',\n",
       " 'rule_36',\n",
       " 'rule_24']"
      ]
     },
     "execution_count": 730,
     "metadata": {},
     "output_type": "execute_result"
    }
   ],
   "source": [
    "easy_rules"
   ]
  },
  {
   "cell_type": "code",
   "execution_count": null,
   "metadata": {},
   "outputs": [],
   "source": []
  },
  {
   "cell_type": "markdown",
   "metadata": {},
   "source": [
    "|    | rep_fn   | comp_fn   | mode   | test_rule   |   updates |   accuracy |   minibatch |   epoch |   loss |   k | top_mode   | rule_world              |\n",
    "|----|----------|-----------|--------|-------------|-----------|------------|-------------|---------|--------|-----|------------|-------------------------|\n",
    "|  0 | GAT      | E-GAT     | test   |             |         0 |      0.23  |           0 |    1500 |  5.368 |   0 | test       | rule_47,rule_36,rule_24 |\n",
    "|  1 | Param    | E-GAT     | test   |             |         0 |      0.255 |           0 |    1500 |  5.339 |   0 | test       | rule_47,rule_36,rule_24 |\n",
    "|  2 | GCN      | E-GAT     | test   |             |         0 |      0.258 |           0 |    1500 |  4.685 |   0 | test       | rule_47,rule_36,rule_24 |\n",
    "|  3 | GAT      | RGCN      | test   |             |         0 |      0.24  |           0 |    1500 |  6.054 |   0 | test       | rule_47,rule_36,rule_24 |\n",
    "|  4 | Param    | RGCN      | test   |             |         0 |      0.208 |           0 |    1500 |  4.369 |   0 | test       | rule_47,rule_36,rule_24 |\n",
    "|  5 | GCN      | RGCN      | test   |             |         0 |      0.218 |           0 |    1500 |  7.875 |   0 | test       | rule_47,rule_36,rule_24 |"
   ]
  },
  {
   "cell_type": "code",
   "execution_count": null,
   "metadata": {},
   "outputs": [],
   "source": []
  },
  {
   "cell_type": "markdown",
   "metadata": {},
   "source": [
    "## Experiment 7: Train on Easy, eval on Medium"
   ]
  },
  {
   "cell_type": "code",
   "execution_count": 741,
   "metadata": {},
   "outputs": [
    {
     "data": {
      "text/plain": [
       "16.0"
      ]
     },
     "execution_count": 741,
     "metadata": {},
     "output_type": "execute_result"
    }
   ],
   "source": [
    "mean_max_overlap(train_easy_worlds, test_medium_worlds)"
   ]
  },
  {
   "cell_type": "markdown",
   "metadata": {},
   "source": [
    "|    | rep_fn   | comp_fn   | mode   | test_rule   |   updates |   accuracy |   minibatch |   epoch |   loss |   k | top_mode   | rule_world              |\n",
    "|----|----------|-----------|--------|-------------|-----------|------------|-------------|---------|--------|-----|------------|-------------------------|\n",
    "|  0 | GAT      | E-GAT     | test   |             |         0 |      0.244 |           0 |    1500 |  5.611 |   0 | test       | rule_45,rule_28,rule_11 |\n",
    "|  1 | Param    | E-GAT     | test   |             |         0 |      0.225 |           0 |    1500 |  5.496 |   0 | test       | rule_45,rule_28,rule_11 |\n",
    "|  2 | GCN      | E-GAT     | test   |             |         0 |      0.231 |           0 |    1500 |  5.131 |   0 | test       | rule_45,rule_28,rule_11 |\n",
    "|  3 | GAT      | RGCN      | test   |             |         0 |      0.212 |           0 |    1500 |  6.997 |   0 | test       | rule_45,rule_28,rule_11 |\n",
    "|  4 | Param    | RGCN      | test   |             |         0 |      0.192 |           0 |    1500 |  4.262 |   0 | test       | rule_45,rule_28,rule_11 |\n",
    "|  5 | GCN      | RGCN      | test   |             |         0 |      0.191 |           0 |    1500 |  7.291 |   0 | test       | rule_45,rule_28,rule_11 |"
   ]
  },
  {
   "cell_type": "markdown",
   "metadata": {},
   "source": [
    "## Experiment 8: Train on Easy, eval on Hard"
   ]
  },
  {
   "cell_type": "code",
   "execution_count": 742,
   "metadata": {},
   "outputs": [
    {
     "data": {
      "text/plain": [
       "11.666666666666666"
      ]
     },
     "execution_count": 742,
     "metadata": {},
     "output_type": "execute_result"
    }
   ],
   "source": [
    "mean_max_overlap(train_easy_worlds, test_hard_worlds)"
   ]
  },
  {
   "cell_type": "markdown",
   "metadata": {},
   "source": [
    "|    | rep_fn   | comp_fn   | mode   | test_rule   |   updates |   accuracy |   minibatch |   epoch |   loss |   k | top_mode   | rule_world             |\n",
    "|----|----------|-----------|--------|-------------|-----------|------------|-------------|---------|--------|-----|------------|------------------------|\n",
    "|  0 | GAT      | E-GAT     | test   |             |         0 |      0.256 |           0 |    1500 |  4.933 |   0 | test       | rule_2,rule_17,rule_16 |\n",
    "|  1 | Param    | E-GAT     | test   |             |         0 |      0.208 |           0 |    1500 |  4.939 |   0 | test       | rule_2,rule_17,rule_16 |\n",
    "|  2 | GCN      | E-GAT     | test   |             |         0 |      0.232 |           0 |    1500 |  4.93  |   0 | test       | rule_2,rule_17,rule_16 |\n",
    "|  3 | GAT      | RGCN      | test   |             |         0 |      0.198 |           0 |    1500 |  7.765 |   0 | test       | rule_2,rule_17,rule_16 |\n",
    "|  4 | Param    | RGCN      | test   |             |         0 |      0.168 |           0 |    1500 |  4.182 |   0 | test       | rule_2,rule_17,rule_16 |\n",
    "|  5 | GCN      | RGCN      | test   |             |         0 |      0.19  |           0 |    1500 |  7.841 |   0 | test       | rule_2,rule_17,rule_16 |"
   ]
  },
  {
   "cell_type": "markdown",
   "metadata": {},
   "source": [
    "## Experiment 5: Multitask, Train on Medium, eval on Medium"
   ]
  },
  {
   "cell_type": "code",
   "execution_count": 90,
   "metadata": {},
   "outputs": [
    {
     "data": {
      "text/plain": [
       "'rule_18,rule_33,rule_32,rule_50,rule_8,rule_10,rule_7,rule_4'"
      ]
     },
     "execution_count": 90,
     "metadata": {},
     "output_type": "execute_result"
    }
   ],
   "source": [
    "## train medium\n",
    "','.join(medium_rules[:8])"
   ]
  },
  {
   "cell_type": "code",
   "execution_count": 714,
   "metadata": {},
   "outputs": [],
   "source": [
    "train_medium_worlds = 'rule_18,rule_33,rule_32,rule_50,rule_8,rule_10,rule_7,rule_4'"
   ]
  },
  {
   "cell_type": "code",
   "execution_count": 94,
   "metadata": {},
   "outputs": [
    {
     "data": {
      "text/plain": [
       "'rule_45,rule_44,rule_11'"
      ]
     },
     "execution_count": 94,
     "metadata": {},
     "output_type": "execute_result"
    }
   ],
   "source": [
    "## test medium\n",
    "','.join(medium_rules[-3:])"
   ]
  },
  {
   "cell_type": "code",
   "execution_count": 724,
   "metadata": {},
   "outputs": [],
   "source": [
    "test_medium_worlds = 'rule_45,rule_28,rule_11'"
   ]
  },
  {
   "cell_type": "code",
   "execution_count": null,
   "metadata": {},
   "outputs": [],
   "source": []
  },
  {
   "cell_type": "code",
   "execution_count": 726,
   "metadata": {},
   "outputs": [
    {
     "data": {
      "text/plain": [
       "16.666666666666668"
      ]
     },
     "execution_count": 726,
     "metadata": {},
     "output_type": "execute_result"
    }
   ],
   "source": [
    "mean_max_overlap(train_medium_worlds, test_medium_worlds)"
   ]
  },
  {
   "cell_type": "markdown",
   "metadata": {},
   "source": [
    "|    | rep_fn   | comp_fn   | mode   | test_rule   |   updates |   accuracy |   minibatch |   epoch |   loss |   k | top_mode   | rule_world              |\n",
    "|----|----------|-----------|--------|-------------|-----------|------------|-------------|---------|--------|-----|------------|-------------------------|\n",
    "|  0 | GAT      | E-GAT     | test   |             |         0 |      0.221 |           0 |    1500 |  5.507 |   0 | test       | rule_45,rule_44,rule_11 |\n",
    "|  1 | Param    | E-GAT     | test   |             |         0 |      0.188 |           0 |    1500 |  5.904 |   0 | test       | rule_45,rule_44,rule_11 |\n",
    "|  2 | GCN      | E-GAT     | test   |             |         0 |      0.175 |           0 |    1500 |  5.446 |   0 | test       | rule_45,rule_44,rule_11 |\n",
    "|  3 | GAT      | RGCN      | test   |             |         0 |      0.191 |           0 |    1500 |  6.609 |   0 | test       | rule_45,rule_44,rule_11 |\n",
    "|  4 | Param    | RGCN      | test   |             |         0 |      0.169 |           0 |    1500 |  4.964 |   0 | test       | rule_45,rule_44,rule_11 |\n",
    "|  5 | GCN      | RGCN      | test   |             |         0 |      0.164 |           0 |    1500 |  8.957 |   0 | test       | rule_45,rule_44,rule_11 |"
   ]
  },
  {
   "cell_type": "markdown",
   "metadata": {},
   "source": [
    "## Experiment 9: Train on Medium, eval on Easy"
   ]
  },
  {
   "cell_type": "code",
   "execution_count": 747,
   "metadata": {},
   "outputs": [
    {
     "data": {
      "text/plain": [
       "16.666666666666668"
      ]
     },
     "execution_count": 747,
     "metadata": {},
     "output_type": "execute_result"
    }
   ],
   "source": [
    "mean_max_overlap(train_medium_worlds, test_easy_worlds)"
   ]
  },
  {
   "cell_type": "markdown",
   "metadata": {},
   "source": [
    "|    | rep_fn   | comp_fn   | mode   | test_rule   |   updates |   accuracy |   minibatch |   epoch |   loss |   k | top_mode   | rule_world              |\n",
    "|----|----------|-----------|--------|-------------|-----------|------------|-------------|---------|--------|-----|------------|-------------------------|\n",
    "|  0 | GAT      | E-GAT     | test   |             |         0 |      0.163 |           0 |    1500 |  6.486 |   0 | test       | rule_47,rule_36,rule_24 |\n",
    "|  1 | Param    | E-GAT     | test   |             |         0 |      0.167 |           0 |    1500 |  6.207 |   0 | test       | rule_47,rule_36,rule_24 |\n",
    "|  2 | GCN      | E-GAT     | test   |             |         0 |      0.145 |           0 |    1500 |  6.148 |   0 | test       | rule_47,rule_36,rule_24 |\n",
    "|  3 | GAT      | RGCN      | test   |             |         0 |      0.131 |           0 |    1500 |  7.765 |   0 | test       | rule_47,rule_36,rule_24 |\n",
    "|  4 | Param    | RGCN      | test   |             |         0 |      0.129 |           0 |    1500 |  5.567 |   0 | test       | rule_47,rule_36,rule_24 |\n",
    "|  5 | GCN      | RGCN      | test   |             |         0 |      0.145 |           0 |    1500 | 10.325 |   0 | test       | rule_47,rule_36,rule_24 |"
   ]
  },
  {
   "cell_type": "markdown",
   "metadata": {},
   "source": [
    "## Experiment 10: Train on Medium, eval on Hard"
   ]
  },
  {
   "cell_type": "code",
   "execution_count": 736,
   "metadata": {
    "scrolled": true
   },
   "outputs": [
    {
     "data": {
      "text/plain": [
       "16.333333333333332"
      ]
     },
     "execution_count": 736,
     "metadata": {},
     "output_type": "execute_result"
    }
   ],
   "source": [
    "mean_max_overlap(train_medium_worlds, test_hard_worlds)"
   ]
  },
  {
   "cell_type": "markdown",
   "metadata": {},
   "source": [
    "|    | rep_fn   | comp_fn   | mode   | test_rule   |   updates |   accuracy |   minibatch |   epoch |   loss |   k | top_mode   | rule_world             |\n",
    "|----|----------|-----------|--------|-------------|-----------|------------|-------------|---------|--------|-----|------------|------------------------|\n",
    "|  0 | GAT      | E-GAT     | test   |             |         0 |      0.252 |           0 |    1500 |  5.207 |   0 | test       | rule_30,rule_2,rule_16 |\n",
    "|  1 | Param    | E-GAT     | test   |             |         0 |      0.23  |           0 |    1500 |  5.483 |   0 | test       | rule_30,rule_2,rule_16 |\n",
    "|  2 | GCN      | E-GAT     | test   |             |         0 |      0.214 |           0 |    1500 |  5.019 |   0 | test       | rule_30,rule_2,rule_16 |\n",
    "|  3 | GAT      | RGCN      | test   |             |         0 |      0.163 |           0 |    1500 |  6.343 |   0 | test       | rule_30,rule_2,rule_16 |\n",
    "|  4 | Param    | RGCN      | test   |             |         0 |      0.17  |           0 |    1500 |  4.487 |   0 | test       | rule_30,rule_2,rule_16 |\n",
    "|  5 | GCN      | RGCN      | test   |             |         0 |      0.158 |           0 |    1500 |  8.024 |   0 | test       | rule_30,rule_2,rule_16 |"
   ]
  },
  {
   "cell_type": "code",
   "execution_count": null,
   "metadata": {},
   "outputs": [],
   "source": []
  },
  {
   "cell_type": "markdown",
   "metadata": {},
   "source": [
    "## Experiment 6: Multitask, Train on Hard, Eval on Hard"
   ]
  },
  {
   "cell_type": "code",
   "execution_count": 91,
   "metadata": {},
   "outputs": [
    {
     "data": {
      "text/plain": [
       "'rule_40,rule_42,rule_6,rule_5,rule_23,rule_0,rule_15,rule_13'"
      ]
     },
     "execution_count": 91,
     "metadata": {},
     "output_type": "execute_result"
    }
   ],
   "source": [
    "## train hard\n",
    "','.join(hard_rules[:8])"
   ]
  },
  {
   "cell_type": "code",
   "execution_count": 715,
   "metadata": {},
   "outputs": [],
   "source": [
    "train_hard_worlds = 'rule_40,rule_42,rule_6,rule_5,rule_23,rule_0,rule_15,rule_13'"
   ]
  },
  {
   "cell_type": "code",
   "execution_count": 113,
   "metadata": {},
   "outputs": [
    {
     "data": {
      "text/plain": [
       "'rule_30,rule_2,rule_16'"
      ]
     },
     "execution_count": 113,
     "metadata": {},
     "output_type": "execute_result"
    }
   ],
   "source": [
    "## test hard\n",
    "','.join(random.sample(hard_rules[8:],3))"
   ]
  },
  {
   "cell_type": "code",
   "execution_count": 722,
   "metadata": {},
   "outputs": [
    {
     "data": {
      "text/plain": [
       "11.666666666666666"
      ]
     },
     "execution_count": 722,
     "metadata": {},
     "output_type": "execute_result"
    }
   ],
   "source": [
    "mean_max_overlap(train_easy_worlds, 'rule_30,rule_2,rule_16')"
   ]
  },
  {
   "cell_type": "code",
   "execution_count": 723,
   "metadata": {},
   "outputs": [],
   "source": [
    "test_hard_worlds = 'rule_25,rule_2,rule_16'"
   ]
  },
  {
   "cell_type": "markdown",
   "metadata": {},
   "source": [
    "|    | rep_fn   | comp_fn   | mode   | test_rule   |   updates |   accuracy |   minibatch |   epoch |   loss |   k | top_mode   | rule_world             |\n",
    "|----|----------|-----------|--------|-------------|-----------|------------|-------------|---------|--------|-----|------------|------------------------|\n",
    "|  0 | GAT      | E-GAT     | test   |             |         0 |      0.177 |           0 |    1500 |  6.25  |   0 | test       | rule_30,rule_2,rule_16 |\n",
    "|  1 | Param    | E-GAT     | test   |             |         0 |      0.143 |           0 |    1500 |  6.39  |   0 | test       | rule_30,rule_2,rule_16 |\n",
    "|  2 | GCN      | E-GAT     | test   |             |         0 |      0.152 |           0 |    1500 |  5.444 |   0 | test       | rule_30,rule_2,rule_16 |\n",
    "|  3 | GAT      | RGCN      | test   |             |         0 |      0.181 |           0 |    1500 |  7.46  |   0 | test       | rule_30,rule_2,rule_16 |\n",
    "|  4 | Param    | RGCN      | test   |             |         0 |      0.138 |           0 |    1500 |  5.354 |   0 | test       | rule_30,rule_2,rule_16 |\n",
    "|  5 | GCN      | RGCN      | test   |             |         0 |      0.168 |           0 |    1500 |  8.855 |   0 | test       | rule_30,rule_2,rule_16 |"
   ]
  },
  {
   "cell_type": "markdown",
   "metadata": {},
   "source": [
    "## Experiment 11: Train on Hard, eval on Easy"
   ]
  },
  {
   "cell_type": "code",
   "execution_count": 793,
   "metadata": {},
   "outputs": [],
   "source": [
    "from itertools import combinations"
   ]
  },
  {
   "cell_type": "code",
   "execution_count": 802,
   "metadata": {},
   "outputs": [],
   "source": [
    "def find_highest_overlap(all_rules, t1):\n",
    "    t1 = t1.split(',')\n",
    "    avbl = [t for t in all_rules if t not in t1]\n",
    "    print(len(avbl))\n",
    "    test_s = []\n",
    "    for comb in combinations(avbl, 3):\n",
    "        t = ','.join(comb)\n",
    "        test_s.append((t, perc_overlap_list(','.join(t1),t)))\n",
    "    test_s = sorted(test_s, key=lambda x: x[1], reverse=True)\n",
    "    return test_s[0]"
   ]
  },
  {
   "cell_type": "code",
   "execution_count": 923,
   "metadata": {},
   "outputs": [],
   "source": [
    "def find_lowest_overlap(all_rules, t1):\n",
    "    t1 = t1.split(',')\n",
    "    avbl = [t for t in all_rules if t not in t1]\n",
    "    print(len(avbl))\n",
    "    test_s = []\n",
    "    for comb in combinations(avbl, 3):\n",
    "        t = ','.join(comb)\n",
    "        test_s.append((t, perc_overlap_list(','.join(t1),t)))\n",
    "    test_s = sorted(test_s, key=lambda x: x[1])\n",
    "    return test_s[0]"
   ]
  },
  {
   "cell_type": "code",
   "execution_count": 771,
   "metadata": {},
   "outputs": [
    {
     "data": {
      "text/plain": [
       "0.8181818181818182"
      ]
     },
     "execution_count": 771,
     "metadata": {},
     "output_type": "execute_result"
    }
   ],
   "source": [
    "perc_overlap_list(train_easy_worlds, test_easy_worlds)"
   ]
  },
  {
   "cell_type": "code",
   "execution_count": 772,
   "metadata": {},
   "outputs": [
    {
     "data": {
      "text/plain": [
       "0.8518518518518519"
      ]
     },
     "execution_count": 772,
     "metadata": {},
     "output_type": "execute_result"
    }
   ],
   "source": [
    "perc_overlap_list(train_easy_worlds, test_medium_worlds)"
   ]
  },
  {
   "cell_type": "code",
   "execution_count": 773,
   "metadata": {},
   "outputs": [
    {
     "data": {
      "text/plain": [
       "0.6046511627906976"
      ]
     },
     "execution_count": 773,
     "metadata": {},
     "output_type": "execute_result"
    }
   ],
   "source": [
    "perc_overlap_list(train_easy_worlds, test_hard_worlds)"
   ]
  },
  {
   "cell_type": "code",
   "execution_count": 928,
   "metadata": {},
   "outputs": [
    {
     "data": {
      "text/plain": [
       "'rule_34,rule_46,rule_37,rule_20,rule_48,rule_31,rule_35,rule_19'"
      ]
     },
     "execution_count": 928,
     "metadata": {},
     "output_type": "execute_result"
    }
   ],
   "source": [
    "train_easy_worlds"
   ]
  },
  {
   "cell_type": "code",
   "execution_count": 929,
   "metadata": {},
   "outputs": [
    {
     "data": {
      "text/plain": [
       "'rule_18,rule_33,rule_32,rule_50,rule_8,rule_10,rule_7,rule_4'"
      ]
     },
     "execution_count": 929,
     "metadata": {},
     "output_type": "execute_result"
    }
   ],
   "source": [
    "train_medium_worlds"
   ]
  },
  {
   "cell_type": "code",
   "execution_count": 930,
   "metadata": {},
   "outputs": [
    {
     "data": {
      "text/plain": [
       "'rule_40,rule_42,rule_6,rule_5,rule_23,rule_0,rule_15,rule_13'"
      ]
     },
     "execution_count": 930,
     "metadata": {},
     "output_type": "execute_result"
    }
   ],
   "source": [
    "train_hard_worlds"
   ]
  },
  {
   "cell_type": "code",
   "execution_count": 952,
   "metadata": {},
   "outputs": [
    {
     "data": {
      "text/plain": [
       "['rule_34',\n",
       " 'rule_46',\n",
       " 'rule_37',\n",
       " 'rule_20',\n",
       " 'rule_48',\n",
       " 'rule_31',\n",
       " 'rule_35',\n",
       " 'rule_19',\n",
       " 'rule_9',\n",
       " 'rule_39',\n",
       " 'rule_49',\n",
       " 'rule_12',\n",
       " 'rule_38',\n",
       " 'rule_47',\n",
       " 'rule_36',\n",
       " 'rule_24']"
      ]
     },
     "execution_count": 952,
     "metadata": {},
     "output_type": "execute_result"
    }
   ],
   "source": [
    "easy_rules"
   ]
  },
  {
   "cell_type": "code",
   "execution_count": 958,
   "metadata": {},
   "outputs": [],
   "source": [
    "c1 = ['rule_34','rule_20','rule_31','rule_19','rule_9','rule_12','rule_24']"
   ]
  },
  {
   "cell_type": "code",
   "execution_count": 967,
   "metadata": {},
   "outputs": [
    {
     "data": {
      "text/plain": [
       "'rule_34,rule_20,rule_31,rule_19,rule_9,rule_12,rule_24'"
      ]
     },
     "execution_count": 967,
     "metadata": {},
     "output_type": "execute_result"
    }
   ],
   "source": [
    "','.join(c1)"
   ]
  },
  {
   "cell_type": "code",
   "execution_count": 960,
   "metadata": {},
   "outputs": [],
   "source": [
    "c1_m = (np.mean([get_baseline('GAT','E-GAT',c) for c in c1]), np.std([get_baseline('GAT','E-GAT',c) for c in c1]))"
   ]
  },
  {
   "cell_type": "code",
   "execution_count": 961,
   "metadata": {},
   "outputs": [
    {
     "data": {
      "text/plain": [
       "(0.7932621964386531, 0.05851431226229156)"
      ]
     },
     "execution_count": 961,
     "metadata": {},
     "output_type": "execute_result"
    }
   ],
   "source": [
    "c1_m"
   ]
  },
  {
   "cell_type": "code",
   "execution_count": 962,
   "metadata": {},
   "outputs": [],
   "source": [
    "c2 = ['rule_18','rule_33','rule_32','rule_8','rule_10','rule_7','rule_26']\n",
    "c2_m = (np.mean([get_baseline('GAT','E-GAT',c) for c in c2]), np.std([get_baseline('GAT','E-GAT',c) for c in c2]))"
   ]
  },
  {
   "cell_type": "code",
   "execution_count": 968,
   "metadata": {},
   "outputs": [
    {
     "data": {
      "text/plain": [
       "'rule_18,rule_33,rule_32,rule_8,rule_10,rule_7,rule_26'"
      ]
     },
     "execution_count": 968,
     "metadata": {},
     "output_type": "execute_result"
    }
   ],
   "source": [
    "','.join(c2)"
   ]
  },
  {
   "cell_type": "code",
   "execution_count": 963,
   "metadata": {},
   "outputs": [
    {
     "data": {
      "text/plain": [
       "(0.6472204050847462, 0.04482468531224333)"
      ]
     },
     "execution_count": 963,
     "metadata": {},
     "output_type": "execute_result"
    }
   ],
   "source": [
    "c2_m"
   ]
  },
  {
   "cell_type": "code",
   "execution_count": 964,
   "metadata": {},
   "outputs": [],
   "source": [
    "c3 = ['rule_6','rule_5','rule_23','rule_15','rule_29','rule_16','rule_30']\n",
    "c3_m = (np.mean([get_baseline('GAT','E-GAT',c) for c in c3]),np.std([get_baseline('GAT','E-GAT',c) for c in c3]))"
   ]
  },
  {
   "cell_type": "code",
   "execution_count": 969,
   "metadata": {},
   "outputs": [
    {
     "data": {
      "text/plain": [
       "'rule_6,rule_5,rule_23,rule_15,rule_29,rule_16,rule_30'"
      ]
     },
     "execution_count": 969,
     "metadata": {},
     "output_type": "execute_result"
    }
   ],
   "source": [
    "','.join(c3)"
   ]
  },
  {
   "cell_type": "code",
   "execution_count": 965,
   "metadata": {},
   "outputs": [
    {
     "data": {
      "text/plain": [
       "(0.4604997304933412, 0.07448555465864513)"
      ]
     },
     "execution_count": 965,
     "metadata": {},
     "output_type": "execute_result"
    }
   ],
   "source": [
    "c3_m"
   ]
  },
  {
   "cell_type": "markdown",
   "metadata": {},
   "source": [
    "## Debiasing"
   ]
  },
  {
   "cell_type": "code",
   "execution_count": 803,
   "metadata": {},
   "outputs": [
    {
     "name": "stdout",
     "output_type": "stream",
     "text": [
      "8\n"
     ]
    },
    {
     "data": {
      "text/plain": [
       "('rule_39,rule_38,rule_47', 1.0)"
      ]
     },
     "execution_count": 803,
     "metadata": {},
     "output_type": "execute_result"
    }
   ],
   "source": [
    "find_highest_overlap(easy_rules, train_easy_worlds)"
   ]
  },
  {
   "cell_type": "code",
   "execution_count": 924,
   "metadata": {},
   "outputs": [
    {
     "name": "stdout",
     "output_type": "stream",
     "text": [
      "8\n"
     ]
    },
    {
     "data": {
      "text/plain": [
       "('rule_9,rule_12,rule_24', 0.7142857142857143)"
      ]
     },
     "execution_count": 924,
     "metadata": {},
     "output_type": "execute_result"
    }
   ],
   "source": [
    "find_lowest_overlap(easy_rules, train_easy_worlds)"
   ]
  },
  {
   "cell_type": "code",
   "execution_count": 817,
   "metadata": {},
   "outputs": [],
   "source": [
    "test_easy_easy = 'rule_39,rule_38,rule_47'"
   ]
  },
  {
   "cell_type": "code",
   "execution_count": 805,
   "metadata": {},
   "outputs": [
    {
     "name": "stdout",
     "output_type": "stream",
     "text": [
      "17\n"
     ]
    },
    {
     "data": {
      "text/plain": [
       "('rule_33,rule_32,rule_41', 1.0)"
      ]
     },
     "execution_count": 805,
     "metadata": {},
     "output_type": "execute_result"
    }
   ],
   "source": [
    "find_highest_overlap(medium_rules, train_easy_worlds)"
   ]
  },
  {
   "cell_type": "code",
   "execution_count": 925,
   "metadata": {},
   "outputs": [
    {
     "name": "stdout",
     "output_type": "stream",
     "text": [
      "17\n"
     ]
    },
    {
     "data": {
      "text/plain": [
       "('rule_8,rule_7,rule_4', 0.375)"
      ]
     },
     "execution_count": 925,
     "metadata": {},
     "output_type": "execute_result"
    }
   ],
   "source": [
    "find_lowest_overlap(medium_rules, train_easy_worlds)"
   ]
  },
  {
   "cell_type": "code",
   "execution_count": 818,
   "metadata": {},
   "outputs": [],
   "source": [
    "test_easy_med = 'rule_33,rule_32,rule_41'"
   ]
  },
  {
   "cell_type": "code",
   "execution_count": 806,
   "metadata": {},
   "outputs": [
    {
     "name": "stdout",
     "output_type": "stream",
     "text": [
      "17\n"
     ]
    },
    {
     "data": {
      "text/plain": [
       "('rule_40,rule_42,rule_23', 1.0)"
      ]
     },
     "execution_count": 806,
     "metadata": {},
     "output_type": "execute_result"
    }
   ],
   "source": [
    "find_highest_overlap(hard_rules, train_easy_worlds)"
   ]
  },
  {
   "cell_type": "code",
   "execution_count": 926,
   "metadata": {},
   "outputs": [
    {
     "name": "stdout",
     "output_type": "stream",
     "text": [
      "17\n"
     ]
    },
    {
     "data": {
      "text/plain": [
       "('rule_0,rule_1,rule_2', 0.13636363636363635)"
      ]
     },
     "execution_count": 926,
     "metadata": {},
     "output_type": "execute_result"
    }
   ],
   "source": [
    "find_lowest_overlap(hard_rules, train_easy_worlds)"
   ]
  },
  {
   "cell_type": "code",
   "execution_count": 819,
   "metadata": {},
   "outputs": [],
   "source": [
    "test_easy_hard = 'rule_40,rule_42,rule_23'"
   ]
  },
  {
   "cell_type": "code",
   "execution_count": 807,
   "metadata": {},
   "outputs": [
    {
     "name": "stdout",
     "output_type": "stream",
     "text": [
      "16\n"
     ]
    },
    {
     "data": {
      "text/plain": [
       "('rule_34,rule_46,rule_37', 1.0)"
      ]
     },
     "execution_count": 807,
     "metadata": {},
     "output_type": "execute_result"
    }
   ],
   "source": [
    "find_highest_overlap(easy_rules, train_medium_worlds)"
   ]
  },
  {
   "cell_type": "code",
   "execution_count": 823,
   "metadata": {},
   "outputs": [],
   "source": [
    "test_med_easy = 'rule_34,rule_46,rule_37'"
   ]
  },
  {
   "cell_type": "code",
   "execution_count": 808,
   "metadata": {},
   "outputs": [
    {
     "name": "stdout",
     "output_type": "stream",
     "text": [
      "9\n"
     ]
    },
    {
     "data": {
      "text/plain": [
       "('rule_41,rule_21,rule_22', 1.0)"
      ]
     },
     "execution_count": 808,
     "metadata": {},
     "output_type": "execute_result"
    }
   ],
   "source": [
    "find_highest_overlap(medium_rules, train_medium_worlds)"
   ]
  },
  {
   "cell_type": "code",
   "execution_count": 824,
   "metadata": {},
   "outputs": [],
   "source": [
    "test_med_med = 'rule_41,rule_21,rule_22'"
   ]
  },
  {
   "cell_type": "code",
   "execution_count": 809,
   "metadata": {},
   "outputs": [
    {
     "name": "stdout",
     "output_type": "stream",
     "text": [
      "17\n"
     ]
    },
    {
     "data": {
      "text/plain": [
       "('rule_40,rule_42,rule_6', 1.0)"
      ]
     },
     "execution_count": 809,
     "metadata": {},
     "output_type": "execute_result"
    }
   ],
   "source": [
    "find_highest_overlap(hard_rules, train_medium_worlds)"
   ]
  },
  {
   "cell_type": "code",
   "execution_count": 825,
   "metadata": {},
   "outputs": [],
   "source": [
    "test_med_hard = 'rule_40,rule_42,rule_6'"
   ]
  },
  {
   "cell_type": "code",
   "execution_count": 810,
   "metadata": {},
   "outputs": [
    {
     "name": "stdout",
     "output_type": "stream",
     "text": [
      "16\n"
     ]
    },
    {
     "data": {
      "text/plain": [
       "('rule_34,rule_37,rule_20', 1.0)"
      ]
     },
     "execution_count": 810,
     "metadata": {},
     "output_type": "execute_result"
    }
   ],
   "source": [
    "find_highest_overlap(easy_rules, train_hard_worlds)"
   ]
  },
  {
   "cell_type": "code",
   "execution_count": 826,
   "metadata": {},
   "outputs": [],
   "source": [
    "test_hard_easy = 'rule_34,rule_37,rule_20'"
   ]
  },
  {
   "cell_type": "code",
   "execution_count": 811,
   "metadata": {},
   "outputs": [
    {
     "name": "stdout",
     "output_type": "stream",
     "text": [
      "17\n"
     ]
    },
    {
     "data": {
      "text/plain": [
       "('rule_18,rule_33,rule_32', 1.0)"
      ]
     },
     "execution_count": 811,
     "metadata": {},
     "output_type": "execute_result"
    }
   ],
   "source": [
    "find_highest_overlap(medium_rules, train_hard_worlds)"
   ]
  },
  {
   "cell_type": "code",
   "execution_count": 827,
   "metadata": {},
   "outputs": [],
   "source": [
    "test_hard_med = 'rule_18,rule_33,rule_32'"
   ]
  },
  {
   "cell_type": "code",
   "execution_count": 812,
   "metadata": {},
   "outputs": [
    {
     "name": "stdout",
     "output_type": "stream",
     "text": [
      "9\n"
     ]
    },
    {
     "data": {
      "text/plain": [
       "('rule_1,rule_3,rule_25', 1.0)"
      ]
     },
     "execution_count": 812,
     "metadata": {},
     "output_type": "execute_result"
    }
   ],
   "source": [
    "find_highest_overlap(hard_rules, train_hard_worlds)"
   ]
  },
  {
   "cell_type": "code",
   "execution_count": 828,
   "metadata": {},
   "outputs": [],
   "source": [
    "test_hard_hard = 'rule_1,rule_3,rule_25'"
   ]
  },
  {
   "cell_type": "code",
   "execution_count": 813,
   "metadata": {},
   "outputs": [
    {
     "data": {
      "text/plain": [
       "'rule_40,rule_42,rule_6,rule_5,rule_23,rule_0,rule_15,rule_13'"
      ]
     },
     "execution_count": 813,
     "metadata": {},
     "output_type": "execute_result"
    }
   ],
   "source": [
    "train_hard_worlds"
   ]
  },
  {
   "cell_type": "code",
   "execution_count": 776,
   "metadata": {},
   "outputs": [
    {
     "data": {
      "text/plain": [
       "1.0"
      ]
     },
     "execution_count": 776,
     "metadata": {},
     "output_type": "execute_result"
    }
   ],
   "source": [
    "perc_overlap_list(train_hard_worlds, test_hard_worlds)"
   ]
  },
  {
   "cell_type": "code",
   "execution_count": 783,
   "metadata": {},
   "outputs": [
    {
     "data": {
      "text/plain": [
       "1.0"
      ]
     },
     "execution_count": 783,
     "metadata": {},
     "output_type": "execute_result"
    }
   ],
   "source": [
    "perc_overlap_list(train_medium_worlds, test_easy_worlds)"
   ]
  },
  {
   "cell_type": "code",
   "execution_count": 784,
   "metadata": {},
   "outputs": [
    {
     "data": {
      "text/plain": [
       "1.0"
      ]
     },
     "execution_count": 784,
     "metadata": {},
     "output_type": "execute_result"
    }
   ],
   "source": [
    "perc_overlap_list(train_medium_worlds, test_medium_worlds)"
   ]
  },
  {
   "cell_type": "code",
   "execution_count": 785,
   "metadata": {},
   "outputs": [
    {
     "data": {
      "text/plain": [
       "0.9534883720930233"
      ]
     },
     "execution_count": 785,
     "metadata": {},
     "output_type": "execute_result"
    }
   ],
   "source": [
    "perc_overlap_list(train_medium_worlds, test_hard_worlds)"
   ]
  },
  {
   "cell_type": "markdown",
   "metadata": {},
   "source": [
    "## Experiment 12: Train on Hard, eval on Medium"
   ]
  },
  {
   "cell_type": "code",
   "execution_count": null,
   "metadata": {},
   "outputs": [],
   "source": []
  },
  {
   "cell_type": "code",
   "execution_count": 526,
   "metadata": {},
   "outputs": [],
   "source": [
    "df_easy = pd.read_csv('../scripts/multitask_logic_easy_easy_eval_results.csv')\n",
    "df_med = pd.read_csv('../scripts/multitask_logic_med_med_eval_results.csv')\n",
    "df_hard = pd.read_csv('../scripts/multitask_logic_hard_hard_eval_results.csv')"
   ]
  },
  {
   "cell_type": "code",
   "execution_count": 537,
   "metadata": {},
   "outputs": [],
   "source": [
    "df_easy = pd.read_csv('../scripts/multitask_logic_easy_easy_eval_indv_results.csv')\n",
    "df_med = pd.read_csv('../scripts/multitask_logic_med_med_eval_indv_results.csv')\n",
    "df_hard = pd.read_csv('../scripts/multitask_logic_hard_hard_eval_indv_results.csv')"
   ]
  },
  {
   "cell_type": "code",
   "execution_count": 532,
   "metadata": {},
   "outputs": [],
   "source": [
    "clean_rule_world = {\n",
    "    'rule_47,rule_36,rule_24': 'easy',\n",
    "    'rule_45,rule_28,rule_11': 'medium',\n",
    "    'rule_30,rule_2,rule_16': 'hard',\n",
    "    'rule_47': 'easy',\n",
    "    'rule_36': 'easy',\n",
    "    'rule_24': 'easy',\n",
    "    'rule_45': 'medium',\n",
    "    'rule_28': 'medium',\n",
    "    'rule_11': 'medium',\n",
    "    'rule_30': 'hard',\n",
    "    'rule_2': 'hard',\n",
    "    'rule_16': 'hard'\n",
    "}"
   ]
  },
  {
   "cell_type": "code",
   "execution_count": 538,
   "metadata": {},
   "outputs": [],
   "source": [
    "df_easy['test_world'] = df_easy.rule_world.apply(lambda x: clean_rule_world[x.split(',')[0]])\n",
    "df_easy['train_world'] = 'easy'\n",
    "df_med['test_world'] = df_med.rule_world.apply(lambda x: clean_rule_world[x.split(',')[0]])\n",
    "df_med['train_world'] = 'medium'\n",
    "df_hard['test_world'] = df_hard.rule_world.apply(lambda x: clean_rule_world[x.split(',')[0]])\n",
    "df_hard['train_world'] = 'hard'"
   ]
  },
  {
   "cell_type": "code",
   "execution_count": 539,
   "metadata": {},
   "outputs": [],
   "source": [
    "df_diff = pd.concat([df_easy, df_med, df_hard])"
   ]
  },
  {
   "cell_type": "code",
   "execution_count": 540,
   "metadata": {
    "scrolled": true
   },
   "outputs": [
    {
     "data": {
      "text/html": [
       "<div>\n",
       "<style scoped>\n",
       "    .dataframe tbody tr th:only-of-type {\n",
       "        vertical-align: middle;\n",
       "    }\n",
       "\n",
       "    .dataframe tbody tr th {\n",
       "        vertical-align: top;\n",
       "    }\n",
       "\n",
       "    .dataframe thead th {\n",
       "        text-align: right;\n",
       "    }\n",
       "</style>\n",
       "<table border=\"1\" class=\"dataframe\">\n",
       "  <thead>\n",
       "    <tr style=\"text-align: right;\">\n",
       "      <th></th>\n",
       "      <th>Unnamed: 0</th>\n",
       "      <th>Unnamed: 0.1</th>\n",
       "      <th>Unnamed: 0.1.1</th>\n",
       "      <th>Unnamed: 0.1.1.1</th>\n",
       "      <th>Unnamed: 0.1.1.1.1</th>\n",
       "      <th>Unnamed: 0.1.1.1.1.1</th>\n",
       "      <th>Unnamed: 0.1.1.1.1.1.1</th>\n",
       "      <th>Unnamed: 0.1.1.1.1.1.1.1</th>\n",
       "      <th>Unnamed: 0.1.1.1.1.1.1.1.1</th>\n",
       "      <th>acc_std</th>\n",
       "      <th>...</th>\n",
       "      <th>loss</th>\n",
       "      <th>minibatch</th>\n",
       "      <th>mode</th>\n",
       "      <th>rep_fn</th>\n",
       "      <th>rule_world</th>\n",
       "      <th>test_rule</th>\n",
       "      <th>top_mode</th>\n",
       "      <th>updates</th>\n",
       "      <th>test_world</th>\n",
       "      <th>train_world</th>\n",
       "    </tr>\n",
       "  </thead>\n",
       "  <tbody>\n",
       "    <tr>\n",
       "      <th>0</th>\n",
       "      <td>0</td>\n",
       "      <td>0.0</td>\n",
       "      <td>0.0</td>\n",
       "      <td>0.0</td>\n",
       "      <td>0.0</td>\n",
       "      <td>0.0</td>\n",
       "      <td>0.0</td>\n",
       "      <td>0.0</td>\n",
       "      <td>0.0</td>\n",
       "      <td>0.0</td>\n",
       "      <td>...</td>\n",
       "      <td>4.514</td>\n",
       "      <td>0</td>\n",
       "      <td>test</td>\n",
       "      <td>GAT</td>\n",
       "      <td>rule_36,</td>\n",
       "      <td>NaN</td>\n",
       "      <td>test</td>\n",
       "      <td>0</td>\n",
       "      <td>easy</td>\n",
       "      <td>easy</td>\n",
       "    </tr>\n",
       "    <tr>\n",
       "      <th>1</th>\n",
       "      <td>1</td>\n",
       "      <td>1.0</td>\n",
       "      <td>1.0</td>\n",
       "      <td>1.0</td>\n",
       "      <td>1.0</td>\n",
       "      <td>1.0</td>\n",
       "      <td>1.0</td>\n",
       "      <td>1.0</td>\n",
       "      <td>1.0</td>\n",
       "      <td>0.0</td>\n",
       "      <td>...</td>\n",
       "      <td>4.486</td>\n",
       "      <td>0</td>\n",
       "      <td>test</td>\n",
       "      <td>Param</td>\n",
       "      <td>rule_36,</td>\n",
       "      <td>NaN</td>\n",
       "      <td>test</td>\n",
       "      <td>0</td>\n",
       "      <td>easy</td>\n",
       "      <td>easy</td>\n",
       "    </tr>\n",
       "    <tr>\n",
       "      <th>2</th>\n",
       "      <td>2</td>\n",
       "      <td>2.0</td>\n",
       "      <td>2.0</td>\n",
       "      <td>2.0</td>\n",
       "      <td>2.0</td>\n",
       "      <td>2.0</td>\n",
       "      <td>2.0</td>\n",
       "      <td>2.0</td>\n",
       "      <td>2.0</td>\n",
       "      <td>0.0</td>\n",
       "      <td>...</td>\n",
       "      <td>3.817</td>\n",
       "      <td>0</td>\n",
       "      <td>test</td>\n",
       "      <td>GCN</td>\n",
       "      <td>rule_36,</td>\n",
       "      <td>NaN</td>\n",
       "      <td>test</td>\n",
       "      <td>0</td>\n",
       "      <td>easy</td>\n",
       "      <td>easy</td>\n",
       "    </tr>\n",
       "    <tr>\n",
       "      <th>3</th>\n",
       "      <td>3</td>\n",
       "      <td>3.0</td>\n",
       "      <td>3.0</td>\n",
       "      <td>3.0</td>\n",
       "      <td>3.0</td>\n",
       "      <td>3.0</td>\n",
       "      <td>3.0</td>\n",
       "      <td>3.0</td>\n",
       "      <td>3.0</td>\n",
       "      <td>0.0</td>\n",
       "      <td>...</td>\n",
       "      <td>5.632</td>\n",
       "      <td>0</td>\n",
       "      <td>test</td>\n",
       "      <td>GAT</td>\n",
       "      <td>rule_36,</td>\n",
       "      <td>NaN</td>\n",
       "      <td>test</td>\n",
       "      <td>0</td>\n",
       "      <td>easy</td>\n",
       "      <td>easy</td>\n",
       "    </tr>\n",
       "    <tr>\n",
       "      <th>4</th>\n",
       "      <td>4</td>\n",
       "      <td>4.0</td>\n",
       "      <td>4.0</td>\n",
       "      <td>4.0</td>\n",
       "      <td>4.0</td>\n",
       "      <td>4.0</td>\n",
       "      <td>4.0</td>\n",
       "      <td>4.0</td>\n",
       "      <td>4.0</td>\n",
       "      <td>0.0</td>\n",
       "      <td>...</td>\n",
       "      <td>3.802</td>\n",
       "      <td>0</td>\n",
       "      <td>test</td>\n",
       "      <td>Param</td>\n",
       "      <td>rule_36,</td>\n",
       "      <td>NaN</td>\n",
       "      <td>test</td>\n",
       "      <td>0</td>\n",
       "      <td>easy</td>\n",
       "      <td>easy</td>\n",
       "    </tr>\n",
       "  </tbody>\n",
       "</table>\n",
       "<p>5 rows × 24 columns</p>\n",
       "</div>"
      ],
      "text/plain": [
       "   Unnamed: 0  Unnamed: 0.1  Unnamed: 0.1.1  Unnamed: 0.1.1.1  \\\n",
       "0           0           0.0             0.0               0.0   \n",
       "1           1           1.0             1.0               1.0   \n",
       "2           2           2.0             2.0               2.0   \n",
       "3           3           3.0             3.0               3.0   \n",
       "4           4           4.0             4.0               4.0   \n",
       "\n",
       "   Unnamed: 0.1.1.1.1  Unnamed: 0.1.1.1.1.1  Unnamed: 0.1.1.1.1.1.1  \\\n",
       "0                 0.0                   0.0                     0.0   \n",
       "1                 1.0                   1.0                     1.0   \n",
       "2                 2.0                   2.0                     2.0   \n",
       "3                 3.0                   3.0                     3.0   \n",
       "4                 4.0                   4.0                     4.0   \n",
       "\n",
       "   Unnamed: 0.1.1.1.1.1.1.1  Unnamed: 0.1.1.1.1.1.1.1.1  acc_std  ...   loss  \\\n",
       "0                       0.0                         0.0      0.0  ...  4.514   \n",
       "1                       1.0                         1.0      0.0  ...  4.486   \n",
       "2                       2.0                         2.0      0.0  ...  3.817   \n",
       "3                       3.0                         3.0      0.0  ...  5.632   \n",
       "4                       4.0                         4.0      0.0  ...  3.802   \n",
       "\n",
       "  minibatch  mode  rep_fn  rule_world  test_rule top_mode updates test_world  \\\n",
       "0         0  test     GAT    rule_36,        NaN     test       0       easy   \n",
       "1         0  test   Param    rule_36,        NaN     test       0       easy   \n",
       "2         0  test     GCN    rule_36,        NaN     test       0       easy   \n",
       "3         0  test     GAT    rule_36,        NaN     test       0       easy   \n",
       "4         0  test   Param    rule_36,        NaN     test       0       easy   \n",
       "\n",
       "   train_world  \n",
       "0         easy  \n",
       "1         easy  \n",
       "2         easy  \n",
       "3         easy  \n",
       "4         easy  \n",
       "\n",
       "[5 rows x 24 columns]"
      ]
     },
     "execution_count": 540,
     "metadata": {},
     "output_type": "execute_result"
    }
   ],
   "source": [
    "df_diff.head()"
   ]
  },
  {
   "cell_type": "code",
   "execution_count": 542,
   "metadata": {},
   "outputs": [],
   "source": [
    "df_diff['recovery'] = 0.0\n",
    "for i,row in df_diff.iterrows():\n",
    "    base = get_baseline(row['rep_fn'],row['comp_fn'],row['rule_world'].split(',')[0])\n",
    "    df_diff.at[i,'recovery'] = row['accuracy'] / base"
   ]
  },
  {
   "cell_type": "code",
   "execution_count": 543,
   "metadata": {},
   "outputs": [],
   "source": [
    "df_diff.to_csv('clean_data/multitask_logic_diff_eval.csv')"
   ]
  },
  {
   "cell_type": "code",
   "execution_count": 502,
   "metadata": {},
   "outputs": [],
   "source": [
    "## convergence results"
   ]
  },
  {
   "cell_type": "code",
   "execution_count": 514,
   "metadata": {},
   "outputs": [],
   "source": [
    "df_easy_all = pd.read_csv('raw_data/convergence_easy_all.csv')\n",
    "df_easy_all['test_world'] = df_easy_all.general_train_rule.apply(lambda x: clean_rule_world[x])\n",
    "df_easy_all['train_world'] = 'easy'"
   ]
  },
  {
   "cell_type": "code",
   "execution_count": 515,
   "metadata": {},
   "outputs": [],
   "source": [
    "df_medium_all = pd.read_csv('raw_data/convergence_medium_all.csv')\n",
    "df_medium_all['test_world'] = df_medium_all.general_train_rule.apply(lambda x: clean_rule_world[x])\n",
    "df_medium_all['train_world'] = 'medium'"
   ]
  },
  {
   "cell_type": "code",
   "execution_count": 516,
   "metadata": {},
   "outputs": [],
   "source": [
    "df_hard_all = pd.read_csv('raw_data/convergence_hard_all.csv')\n",
    "df_hard_all['test_world'] = df_hard_all.general_train_rule.apply(lambda x: clean_rule_world[x])\n",
    "df_hard_all['train_world'] = 'hard'"
   ]
  },
  {
   "cell_type": "code",
   "execution_count": 517,
   "metadata": {},
   "outputs": [
    {
     "name": "stderr",
     "output_type": "stream",
     "text": [
      "/private/home/koustuvs/miniconda3/envs/lgw/lib/python3.7/site-packages/ipykernel_launcher.py:1: FutureWarning: Sorting because non-concatenation axis is not aligned. A future version\n",
      "of pandas will change to not sort by default.\n",
      "\n",
      "To accept the future behavior, pass 'sort=False'.\n",
      "\n",
      "To retain the current behavior and silence the warning, pass 'sort=True'.\n",
      "\n",
      "  \"\"\"Entry point for launching an IPython kernel.\n"
     ]
    }
   ],
   "source": [
    "df_e_m_h = pd.concat([df_easy_all,df_medium_all,df_hard_all])"
   ]
  },
  {
   "cell_type": "code",
   "execution_count": 519,
   "metadata": {},
   "outputs": [],
   "source": [
    "clean_model_names = {\n",
    "    \"GatedNodeGatEncoder\": \"GAT\",\n",
    "    \"GatedGatEncoder\": \"E-GAT\",\n",
    "    \"RepresentationGCNEncoder\": \"GCN\",\n",
    "    \"CompositionRGCNEncoder\": \"RGCN\",\n",
    "    \"Param\": \"Param\",\n",
    "}\n",
    "df_e_m_h['rep_fn'] = df_e_m_h.model_representation_fn_path.apply(lambda x: clean_model_names[x.split('.')[-1]])\n",
    "df_e_m_h['comp_fn'] = df_e_m_h.model_composition_fn_path.apply(lambda x: clean_model_names[x.split('.')[-1]])"
   ]
  },
  {
   "cell_type": "code",
   "execution_count": 525,
   "metadata": {},
   "outputs": [],
   "source": [
    "df_e_m_h.to_csv('clean_data/multitask_diff_conv_eval.csv')"
   ]
  },
  {
   "cell_type": "code",
   "execution_count": 524,
   "metadata": {},
   "outputs": [],
   "source": [
    "df_e_m_h['recovery'] = 0.0\n",
    "for i,row in df_e_m_h.iterrows():\n",
    "    base = get_baseline(row['rep_fn'],row['comp_fn'],row['general_train_rule'])\n",
    "    df_e_m_h.at[i,'recovery'] = row['train_test_accuracy'] / base"
   ]
  },
  {
   "cell_type": "code",
   "execution_count": 523,
   "metadata": {},
   "outputs": [
    {
     "data": {
      "text/plain": [
       "0.30630388110876083"
      ]
     },
     "execution_count": 523,
     "metadata": {},
     "output_type": "execute_result"
    }
   ],
   "source": [
    "get_baseline('GCN','RGCN','rule_16')"
   ]
  },
  {
   "cell_type": "code",
   "execution_count": 769,
   "metadata": {},
   "outputs": [
    {
     "data": {
      "text/plain": [
       "'rule_34,rule_46,rule_37,rule_20,rule_48,rule_31,rule_35,rule_19'"
      ]
     },
     "execution_count": 769,
     "metadata": {},
     "output_type": "execute_result"
    }
   ],
   "source": [
    "train_easy_worlds"
   ]
  },
  {
   "cell_type": "code",
   "execution_count": 750,
   "metadata": {},
   "outputs": [
    {
     "data": {
      "text/plain": [
       "'rule_9,rule_47,rule_24'"
      ]
     },
     "execution_count": 750,
     "metadata": {},
     "output_type": "execute_result"
    }
   ],
   "source": [
    "test_easy_worlds"
   ]
  },
  {
   "cell_type": "code",
   "execution_count": 752,
   "metadata": {},
   "outputs": [
    {
     "data": {
      "text/plain": [
       "'rule_45,rule_28,rule_11'"
      ]
     },
     "execution_count": 752,
     "metadata": {},
     "output_type": "execute_result"
    }
   ],
   "source": [
    "test_medium_worlds"
   ]
  },
  {
   "cell_type": "code",
   "execution_count": 751,
   "metadata": {},
   "outputs": [
    {
     "data": {
      "text/plain": [
       "'rule_25,rule_2,rule_16'"
      ]
     },
     "execution_count": 751,
     "metadata": {},
     "output_type": "execute_result"
    }
   ],
   "source": [
    "test_hard_worlds"
   ]
  },
  {
   "cell_type": "code",
   "execution_count": 1062,
   "metadata": {},
   "outputs": [],
   "source": [
    "# easy_all = pd.read_csv('../scripts/multitask_logic_easy_easy_k20eval_results.csv')\n",
    "# med_all = pd.read_csv('../scripts/multitask_logic_med_med_k20eval_results.csv')\n",
    "# hard_all = pd.read_csv('../scripts/multitask_logic_hard_hard_k20eval_results.csv')\n",
    "# easy_all = pd.read_csv('../scripts/multitask_logic_easy_easy_k10eval_results.csv')\n",
    "# med_all = pd.read_csv('../scripts/multitask_logic_med_med_k10eval_results.csv')\n",
    "# hard_all = pd.read_csv('../scripts/multitask_logic_hard_hard_k10eval_results.csv')\n",
    "# easy_all = pd.read_csv('../scripts/multitask_logic_easy_easy_k30eval_results.csv')\n",
    "# med_all = pd.read_csv('../scripts/multitask_logic_med_med_k30eval_results.csv')\n",
    "# hard_all = pd.read_csv('../scripts/multitask_logic_hard_hard_k30eval_results.csv')\n",
    "# easy_all = pd.read_csv('../scripts/multitask_logic_easy_easy_k5eval_results.csv')\n",
    "# med_all = pd.read_csv('../scripts/multitask_logic_med_med_k5eval_results.csv')\n",
    "# hard_all = pd.read_csv('../scripts/multitask_logic_hard_hard_k5eval_results.csv')\n",
    "# easy_all = pd.read_csv('../scripts/multitask_logic_easy_easy_k15eval_results.csv')\n",
    "# med_all = pd.read_csv('../scripts/multitask_logic_med_med_k15eval_results.csv')\n",
    "# hard_all = pd.read_csv('../scripts/multitask_logic_hard_hard_k15eval_results.csv')\n",
    "# easy_all = pd.read_csv('../scripts/multitask_logic_easy_easy_k25eval_results.csv')\n",
    "# med_all = pd.read_csv('../scripts/multitask_logic_med_med_k25eval_results.csv')\n",
    "# hard_all = pd.read_csv('../scripts/multitask_logic_hard_hard_k25eval_results.csv')\n",
    "# easy_all = pd.read_csv('../scripts/multitask_logic_easy_easy_k0eval_results.csv')\n",
    "# med_all = pd.read_csv('../scripts/multitask_logic_med_med_k0eval_results.csv')\n",
    "# hard_all = pd.read_csv('../scripts/multitask_logic_hard_hard_k0eval_results.csv')\n",
    "# easy_all = pd.read_csv('../scripts/multitask_logic_easy_easy_k40eval_results.csv')\n",
    "# med_all = pd.read_csv('../scripts/multitask_logic_med_med_k40eval_results.csv')\n",
    "# hard_all = pd.read_csv('../scripts/multitask_logic_hard_hard_k40eval_results.csv')\n",
    "easy_all = pd.read_csv('../scripts/multitask_logic_easy_easy_k-1eval_results.csv')\n",
    "med_all = pd.read_csv('../scripts/multitask_logic_med_med_k-1eval_results.csv')\n",
    "hard_all = pd.read_csv('../scripts/multitask_logic_hard_hard_k-1eval_results.csv')\n"
   ]
  },
  {
   "cell_type": "code",
   "execution_count": 1063,
   "metadata": {},
   "outputs": [],
   "source": [
    "easy_all.rule_world = easy_all.rule_world.apply(lambda x: x.split(',')[0])\n",
    "med_all.rule_world = med_all.rule_world.apply(lambda x: x.split(',')[0])\n",
    "hard_all.rule_world = hard_all.rule_world.apply(lambda x: x.split(',')[0])"
   ]
  },
  {
   "cell_type": "code",
   "execution_count": 982,
   "metadata": {},
   "outputs": [],
   "source": [
    "test_comb = 'rule_54,rule_55,rule_56'"
   ]
  },
  {
   "cell_type": "code",
   "execution_count": 1064,
   "metadata": {},
   "outputs": [
    {
     "data": {
      "text/plain": [
       "0.5213148148148149"
      ]
     },
     "execution_count": 1064,
     "metadata": {},
     "output_type": "execute_result"
    }
   ],
   "source": [
    "easy_all[easy_all.rule_world.isin(test_comb.split(','))].accuracy.mean()"
   ]
  },
  {
   "cell_type": "code",
   "execution_count": 1065,
   "metadata": {},
   "outputs": [
    {
     "data": {
      "text/plain": [
       "0.5397962962962963"
      ]
     },
     "execution_count": 1065,
     "metadata": {},
     "output_type": "execute_result"
    }
   ],
   "source": [
    "med_all[med_all.rule_world.isin(test_comb.split(','))].accuracy.mean()"
   ]
  },
  {
   "cell_type": "code",
   "execution_count": 1066,
   "metadata": {},
   "outputs": [
    {
     "data": {
      "text/plain": [
       "0.5388333333333333"
      ]
     },
     "execution_count": 1066,
     "metadata": {},
     "output_type": "execute_result"
    }
   ],
   "source": [
    "hard_all[hard_all.rule_world.isin(test_comb.split(','))].accuracy.mean()"
   ]
  },
  {
   "cell_type": "code",
   "execution_count": 974,
   "metadata": {},
   "outputs": [
    {
     "data": {
      "text/plain": [
       "0.49283333333333335"
      ]
     },
     "execution_count": 974,
     "metadata": {},
     "output_type": "execute_result"
    }
   ],
   "source": [
    "easy_all[easy_all.rule_world.isin(test_easy_med.split(','))].accuracy.mean()"
   ]
  },
  {
   "cell_type": "code",
   "execution_count": 975,
   "metadata": {},
   "outputs": [
    {
     "data": {
      "text/plain": [
       "0.4297777777777778"
      ]
     },
     "execution_count": 975,
     "metadata": {},
     "output_type": "execute_result"
    }
   ],
   "source": [
    "easy_all[easy_all.rule_world.isin(test_easy_hard.split(','))].accuracy.mean()"
   ]
  },
  {
   "cell_type": "code",
   "execution_count": 916,
   "metadata": {},
   "outputs": [
    {
     "data": {
      "text/plain": [
       "0.204"
      ]
     },
     "execution_count": 916,
     "metadata": {},
     "output_type": "execute_result"
    }
   ],
   "source": [
    "hard_all[hard_all.rule_world.isin(test_hard_easy.split(','))].accuracy.mean()"
   ]
  },
  {
   "cell_type": "code",
   "execution_count": 917,
   "metadata": {},
   "outputs": [
    {
     "data": {
      "text/plain": [
       "0.11325"
      ]
     },
     "execution_count": 917,
     "metadata": {},
     "output_type": "execute_result"
    }
   ],
   "source": [
    "hard_all[hard_all.rule_world.isin(test_hard_med.split(','))].accuracy.mean()"
   ]
  },
  {
   "cell_type": "code",
   "execution_count": 918,
   "metadata": {},
   "outputs": [
    {
     "data": {
      "text/plain": [
       "0.18241666666666667"
      ]
     },
     "execution_count": 918,
     "metadata": {},
     "output_type": "execute_result"
    }
   ],
   "source": [
    "hard_all[hard_all.rule_world.isin(test_hard_hard.split(','))].accuracy.mean()"
   ]
  },
  {
   "cell_type": "code",
   "execution_count": 919,
   "metadata": {},
   "outputs": [],
   "source": [
    "test_easy_modes = {}\n",
    "for t in test_easy_easy.split(','):\n",
    "    test_easy_modes[t] = 'easy'\n",
    "for t in test_easy_med.split(','):\n",
    "    test_easy_modes[t] = 'medium'\n",
    "for t in test_easy_hard.split(','):\n",
    "    test_easy_modes[t] = 'hard'\n",
    "\n",
    "test_med_modes = {}\n",
    "for t in test_med_easy.split(','):\n",
    "    test_med_modes[t] = 'easy'\n",
    "for t in test_med_med.split(','):\n",
    "    test_med_modes[t] = 'medium'\n",
    "for t in test_med_hard.split(','):\n",
    "    test_med_modes[t] = 'hard'\n",
    "    \n",
    "test_hard_modes = {}\n",
    "for t in test_hard_easy.split(','):\n",
    "    test_hard_modes[t] = 'easy'\n",
    "for t in test_hard_med.split(','):\n",
    "    test_hard_modes[t] = 'medium'\n",
    "for t in test_hard_hard.split(','):\n",
    "    test_hard_modes[t] = 'hard'"
   ]
  },
  {
   "cell_type": "code",
   "execution_count": 1009,
   "metadata": {
    "scrolled": true
   },
   "outputs": [
    {
     "ename": "KeyError",
     "evalue": "'rule_54'",
     "output_type": "error",
     "traceback": [
      "\u001b[0;31m---------------------------------------------------------------------------\u001b[0m",
      "\u001b[0;31mKeyError\u001b[0m                                  Traceback (most recent call last)",
      "\u001b[0;32m<ipython-input-1009-3a176f748b94>\u001b[0m in \u001b[0;36m<module>\u001b[0;34m\u001b[0m\n\u001b[1;32m      1\u001b[0m \u001b[0measy_all\u001b[0m\u001b[0;34m[\u001b[0m\u001b[0;34m'train_world'\u001b[0m\u001b[0;34m]\u001b[0m \u001b[0;34m=\u001b[0m \u001b[0;34m'easy'\u001b[0m\u001b[0;34m\u001b[0m\u001b[0;34m\u001b[0m\u001b[0m\n\u001b[0;32m----> 2\u001b[0;31m \u001b[0measy_all\u001b[0m\u001b[0;34m[\u001b[0m\u001b[0;34m'test_world'\u001b[0m\u001b[0;34m]\u001b[0m \u001b[0;34m=\u001b[0m \u001b[0measy_all\u001b[0m\u001b[0;34m.\u001b[0m\u001b[0mrule_world\u001b[0m\u001b[0;34m.\u001b[0m\u001b[0mapply\u001b[0m\u001b[0;34m(\u001b[0m\u001b[0;32mlambda\u001b[0m \u001b[0mx\u001b[0m\u001b[0;34m:\u001b[0m \u001b[0mtest_easy_modes\u001b[0m\u001b[0;34m[\u001b[0m\u001b[0mx\u001b[0m\u001b[0;34m]\u001b[0m\u001b[0;34m)\u001b[0m\u001b[0;34m\u001b[0m\u001b[0;34m\u001b[0m\u001b[0m\n\u001b[0m\u001b[1;32m      3\u001b[0m \u001b[0mmed_all\u001b[0m\u001b[0;34m[\u001b[0m\u001b[0;34m'train_world'\u001b[0m\u001b[0;34m]\u001b[0m \u001b[0;34m=\u001b[0m \u001b[0;34m'medium'\u001b[0m\u001b[0;34m\u001b[0m\u001b[0;34m\u001b[0m\u001b[0m\n\u001b[1;32m      4\u001b[0m \u001b[0mmed_all\u001b[0m\u001b[0;34m[\u001b[0m\u001b[0;34m'test_world'\u001b[0m\u001b[0;34m]\u001b[0m \u001b[0;34m=\u001b[0m \u001b[0mmed_all\u001b[0m\u001b[0;34m.\u001b[0m\u001b[0mrule_world\u001b[0m\u001b[0;34m.\u001b[0m\u001b[0mapply\u001b[0m\u001b[0;34m(\u001b[0m\u001b[0;32mlambda\u001b[0m \u001b[0mx\u001b[0m\u001b[0;34m:\u001b[0m \u001b[0mtest_med_modes\u001b[0m\u001b[0;34m[\u001b[0m\u001b[0mx\u001b[0m\u001b[0;34m]\u001b[0m\u001b[0;34m)\u001b[0m\u001b[0;34m\u001b[0m\u001b[0;34m\u001b[0m\u001b[0m\n\u001b[1;32m      5\u001b[0m \u001b[0mhard_all\u001b[0m\u001b[0;34m[\u001b[0m\u001b[0;34m'train_world'\u001b[0m\u001b[0;34m]\u001b[0m \u001b[0;34m=\u001b[0m \u001b[0;34m'hard'\u001b[0m\u001b[0;34m\u001b[0m\u001b[0;34m\u001b[0m\u001b[0m\n",
      "\u001b[0;32m~/.local/lib/python3.7/site-packages/pandas/core/series.py\u001b[0m in \u001b[0;36mapply\u001b[0;34m(self, func, convert_dtype, args, **kwds)\u001b[0m\n\u001b[1;32m   4036\u001b[0m             \u001b[0;32melse\u001b[0m\u001b[0;34m:\u001b[0m\u001b[0;34m\u001b[0m\u001b[0;34m\u001b[0m\u001b[0m\n\u001b[1;32m   4037\u001b[0m                 \u001b[0mvalues\u001b[0m \u001b[0;34m=\u001b[0m \u001b[0mself\u001b[0m\u001b[0;34m.\u001b[0m\u001b[0mastype\u001b[0m\u001b[0;34m(\u001b[0m\u001b[0mobject\u001b[0m\u001b[0;34m)\u001b[0m\u001b[0;34m.\u001b[0m\u001b[0mvalues\u001b[0m\u001b[0;34m\u001b[0m\u001b[0;34m\u001b[0m\u001b[0m\n\u001b[0;32m-> 4038\u001b[0;31m                 \u001b[0mmapped\u001b[0m \u001b[0;34m=\u001b[0m \u001b[0mlib\u001b[0m\u001b[0;34m.\u001b[0m\u001b[0mmap_infer\u001b[0m\u001b[0;34m(\u001b[0m\u001b[0mvalues\u001b[0m\u001b[0;34m,\u001b[0m \u001b[0mf\u001b[0m\u001b[0;34m,\u001b[0m \u001b[0mconvert\u001b[0m\u001b[0;34m=\u001b[0m\u001b[0mconvert_dtype\u001b[0m\u001b[0;34m)\u001b[0m\u001b[0;34m\u001b[0m\u001b[0;34m\u001b[0m\u001b[0m\n\u001b[0m\u001b[1;32m   4039\u001b[0m \u001b[0;34m\u001b[0m\u001b[0m\n\u001b[1;32m   4040\u001b[0m         \u001b[0;32mif\u001b[0m \u001b[0mlen\u001b[0m\u001b[0;34m(\u001b[0m\u001b[0mmapped\u001b[0m\u001b[0;34m)\u001b[0m \u001b[0;32mand\u001b[0m \u001b[0misinstance\u001b[0m\u001b[0;34m(\u001b[0m\u001b[0mmapped\u001b[0m\u001b[0;34m[\u001b[0m\u001b[0;36m0\u001b[0m\u001b[0;34m]\u001b[0m\u001b[0;34m,\u001b[0m \u001b[0mSeries\u001b[0m\u001b[0;34m)\u001b[0m\u001b[0;34m:\u001b[0m\u001b[0;34m\u001b[0m\u001b[0;34m\u001b[0m\u001b[0m\n",
      "\u001b[0;32mpandas/_libs/lib.pyx\u001b[0m in \u001b[0;36mpandas._libs.lib.map_infer\u001b[0;34m()\u001b[0m\n",
      "\u001b[0;32m<ipython-input-1009-3a176f748b94>\u001b[0m in \u001b[0;36m<lambda>\u001b[0;34m(x)\u001b[0m\n\u001b[1;32m      1\u001b[0m \u001b[0measy_all\u001b[0m\u001b[0;34m[\u001b[0m\u001b[0;34m'train_world'\u001b[0m\u001b[0;34m]\u001b[0m \u001b[0;34m=\u001b[0m \u001b[0;34m'easy'\u001b[0m\u001b[0;34m\u001b[0m\u001b[0;34m\u001b[0m\u001b[0m\n\u001b[0;32m----> 2\u001b[0;31m \u001b[0measy_all\u001b[0m\u001b[0;34m[\u001b[0m\u001b[0;34m'test_world'\u001b[0m\u001b[0;34m]\u001b[0m \u001b[0;34m=\u001b[0m \u001b[0measy_all\u001b[0m\u001b[0;34m.\u001b[0m\u001b[0mrule_world\u001b[0m\u001b[0;34m.\u001b[0m\u001b[0mapply\u001b[0m\u001b[0;34m(\u001b[0m\u001b[0;32mlambda\u001b[0m \u001b[0mx\u001b[0m\u001b[0;34m:\u001b[0m \u001b[0mtest_easy_modes\u001b[0m\u001b[0;34m[\u001b[0m\u001b[0mx\u001b[0m\u001b[0;34m]\u001b[0m\u001b[0;34m)\u001b[0m\u001b[0;34m\u001b[0m\u001b[0;34m\u001b[0m\u001b[0m\n\u001b[0m\u001b[1;32m      3\u001b[0m \u001b[0mmed_all\u001b[0m\u001b[0;34m[\u001b[0m\u001b[0;34m'train_world'\u001b[0m\u001b[0;34m]\u001b[0m \u001b[0;34m=\u001b[0m \u001b[0;34m'medium'\u001b[0m\u001b[0;34m\u001b[0m\u001b[0;34m\u001b[0m\u001b[0m\n\u001b[1;32m      4\u001b[0m \u001b[0mmed_all\u001b[0m\u001b[0;34m[\u001b[0m\u001b[0;34m'test_world'\u001b[0m\u001b[0;34m]\u001b[0m \u001b[0;34m=\u001b[0m \u001b[0mmed_all\u001b[0m\u001b[0;34m.\u001b[0m\u001b[0mrule_world\u001b[0m\u001b[0;34m.\u001b[0m\u001b[0mapply\u001b[0m\u001b[0;34m(\u001b[0m\u001b[0;32mlambda\u001b[0m \u001b[0mx\u001b[0m\u001b[0;34m:\u001b[0m \u001b[0mtest_med_modes\u001b[0m\u001b[0;34m[\u001b[0m\u001b[0mx\u001b[0m\u001b[0;34m]\u001b[0m\u001b[0;34m)\u001b[0m\u001b[0;34m\u001b[0m\u001b[0;34m\u001b[0m\u001b[0m\n\u001b[1;32m      5\u001b[0m \u001b[0mhard_all\u001b[0m\u001b[0;34m[\u001b[0m\u001b[0;34m'train_world'\u001b[0m\u001b[0;34m]\u001b[0m \u001b[0;34m=\u001b[0m \u001b[0;34m'hard'\u001b[0m\u001b[0;34m\u001b[0m\u001b[0;34m\u001b[0m\u001b[0m\n",
      "\u001b[0;31mKeyError\u001b[0m: 'rule_54'"
     ]
    }
   ],
   "source": [
    "easy_all['train_world'] = 'easy'\n",
    "easy_all['test_world'] = easy_all.rule_world.apply(lambda x: test_easy_modes[x])\n",
    "med_all['train_world'] = 'medium'\n",
    "med_all['test_world'] = med_all.rule_world.apply(lambda x: test_med_modes[x])\n",
    "hard_all['train_world'] = 'hard'\n",
    "hard_all['test_world'] = hard_all.rule_world.apply(lambda x: test_hard_modes[x])"
   ]
  },
  {
   "cell_type": "code",
   "execution_count": 1067,
   "metadata": {},
   "outputs": [],
   "source": [
    "easy_all['train_world'] = 'easy'\n",
    "easy_all['test_world'] = 'novel'\n",
    "med_all['train_world'] = 'medium'\n",
    "med_all['test_world'] = 'novel'\n",
    "hard_all['train_world'] = 'hard'\n",
    "hard_all['test_world'] = 'novel'"
   ]
  },
  {
   "cell_type": "code",
   "execution_count": 1068,
   "metadata": {},
   "outputs": [],
   "source": [
    "emh_all = pd.concat([easy_all, med_all, hard_all])"
   ]
  },
  {
   "cell_type": "code",
   "execution_count": 1070,
   "metadata": {},
   "outputs": [],
   "source": [
    "# emh_all.to_csv('clean_data/k_20_difficulty.csv')\n",
    "# emh_all.to_csv('clean_data/k_10_difficulty.csv')\n",
    "# emh_all.to_csv('clean_data/k_30_difficulty.csv')\n",
    "# emh_all.to_csv('clean_data/k_5_difficulty.csv')\n",
    "# emh_all.to_csv('clean_data/k_15_difficulty.csv')\n",
    "# emh_all.to_csv('clean_data/k_25_difficulty.csv')\n",
    "# emh_all.to_csv('clean_data/k_0_difficulty.csv')\n",
    "# emh_all.to_csv('clean_data/k_40_difficulty.csv')\n",
    "# emh_all.to_csv('clean_data/novel_k_0_difficulty.csv')\n",
    "# emh_all.to_csv('clean_data/novel_k_5_difficulty.csv')\n",
    "# emh_all.to_csv('clean_data/novel_k_10_difficulty.csv')\n",
    "# emh_all.to_csv('clean_data/novel_k_15_difficulty.csv')\n",
    "# emh_all.to_csv('clean_data/novel_k_20_difficulty.csv')\n",
    "# emh_all.to_csv('clean_data/novel_k_30_difficulty.csv')\n",
    "# emh_all.to_csv('clean_data/novel_k_40_difficulty.csv')\n",
    "emh_all.to_csv('clean_data/novel_k_100_difficulty.csv')"
   ]
  },
  {
   "cell_type": "code",
   "execution_count": null,
   "metadata": {},
   "outputs": [],
   "source": []
  },
  {
   "cell_type": "code",
   "execution_count": 822,
   "metadata": {},
   "outputs": [
    {
     "data": {
      "text/plain": [
       "0.27566666666666667"
      ]
     },
     "execution_count": 822,
     "metadata": {},
     "output_type": "execute_result"
    }
   ],
   "source": [
    "easy_all[easy_all.rule_world == test_easy_hard].accuracy.mean()"
   ]
  },
  {
   "cell_type": "code",
   "execution_count": 829,
   "metadata": {},
   "outputs": [
    {
     "data": {
      "text/plain": [
       "0.20333333333333334"
      ]
     },
     "execution_count": 829,
     "metadata": {},
     "output_type": "execute_result"
    }
   ],
   "source": [
    "hard_all[hard_all.rule_world == test_hard_easy].accuracy.mean()"
   ]
  },
  {
   "cell_type": "code",
   "execution_count": 830,
   "metadata": {},
   "outputs": [
    {
     "data": {
      "text/plain": [
       "0.11183333333333333"
      ]
     },
     "execution_count": 830,
     "metadata": {},
     "output_type": "execute_result"
    }
   ],
   "source": [
    "hard_all[hard_all.rule_world == test_hard_med].accuracy.mean()"
   ]
  },
  {
   "cell_type": "code",
   "execution_count": 831,
   "metadata": {},
   "outputs": [
    {
     "data": {
      "text/plain": [
       "0.1835"
      ]
     },
     "execution_count": 831,
     "metadata": {},
     "output_type": "execute_result"
    }
   ],
   "source": [
    "hard_all[hard_all.rule_world == test_hard_hard].accuracy.mean()"
   ]
  },
  {
   "cell_type": "code",
   "execution_count": 832,
   "metadata": {},
   "outputs": [
    {
     "data": {
      "text/plain": [
       "0.1645"
      ]
     },
     "execution_count": 832,
     "metadata": {},
     "output_type": "execute_result"
    }
   ],
   "source": [
    "med_all[med_all.rule_world == test_med_easy].accuracy.mean()"
   ]
  },
  {
   "cell_type": "code",
   "execution_count": 833,
   "metadata": {},
   "outputs": [
    {
     "data": {
      "text/plain": [
       "0.17300000000000001"
      ]
     },
     "execution_count": 833,
     "metadata": {},
     "output_type": "execute_result"
    }
   ],
   "source": [
    "med_all[med_all.rule_world == test_med_med].accuracy.mean()"
   ]
  },
  {
   "cell_type": "code",
   "execution_count": 834,
   "metadata": {},
   "outputs": [
    {
     "data": {
      "text/plain": [
       "0.1775"
      ]
     },
     "execution_count": 834,
     "metadata": {},
     "output_type": "execute_result"
    }
   ],
   "source": [
    "med_all[med_all.rule_world == test_med_hard].accuracy.mean()"
   ]
  },
  {
   "cell_type": "code",
   "execution_count": null,
   "metadata": {},
   "outputs": [],
   "source": []
  }
 ],
 "metadata": {
  "kernelspec": {
   "display_name": "Python 3 (lgw)",
   "language": "python",
   "name": "lgw"
  },
  "language_info": {
   "codemirror_mode": {
    "name": "ipython",
    "version": 3
   },
   "file_extension": ".py",
   "mimetype": "text/x-python",
   "name": "python",
   "nbconvert_exporter": "python",
   "pygments_lexer": "ipython3",
   "version": "3.7.3"
  }
 },
 "nbformat": 4,
 "nbformat_minor": 2
}
